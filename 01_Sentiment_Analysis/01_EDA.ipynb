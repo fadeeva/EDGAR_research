{
  "nbformat": 4,
  "nbformat_minor": 0,
  "metadata": {
    "colab": {
      "provenance": [],
      "authorship_tag": "ABX9TyNNscIKA2mGvEwG6w9AlXkR"
    },
    "kernelspec": {
      "name": "python3",
      "display_name": "Python 3"
    },
    "language_info": {
      "name": "python"
    }
  },
  "cells": [
    {
      "cell_type": "code",
      "execution_count": 12,
      "metadata": {
        "id": "09tUqn9XxPGz"
      },
      "outputs": [],
      "source": [
        "import pickle as pk\n",
        "import requests\n",
        "\n",
        "import bs4 as bs\n",
        "from bs4 import XMLParsedAsHTMLWarning\n",
        "import warnings\n",
        "\n",
        "warnings.filterwarnings(\"ignore\", category=XMLParsedAsHTMLWarning)"
      ]
    },
    {
      "cell_type": "code",
      "source": [
        "url = 'https://github.com/fadeeva/EDGAR_research/raw/refs/heads/master/data/reports.pickle'\n",
        "response = requests.get(url)\n",
        "reports = pk.loads(response.content)\n",
        "\n",
        "len(reports.keys())"
      ],
      "metadata": {
        "colab": {
          "base_uri": "https://localhost:8080/"
        },
        "id": "DvQQAdb-yDz-",
        "outputId": "1ef298d1-671c-45ef-cbd7-20aa3a1cc166"
      },
      "execution_count": 10,
      "outputs": [
        {
          "output_type": "execute_result",
          "data": {
            "text/plain": [
              "496"
            ]
          },
          "metadata": {},
          "execution_count": 10
        }
      ]
    },
    {
      "cell_type": "code",
      "source": [
        "reports['AAPL']"
      ],
      "metadata": {
        "colab": {
          "base_uri": "https://localhost:8080/"
        },
        "id": "WZ9vnjqGx45Y",
        "outputId": "02b11eb4-f276-4b5f-ec65-56f389700eac"
      },
      "execution_count": 9,
      "outputs": [
        {
          "output_type": "execute_result",
          "data": {
            "text/plain": [
              "['https://www.sec.gov/Archives/edgar/data/320193/000032019325000057/aapl-20250329.htm',\n",
              " 'https://www.sec.gov/Archives/edgar/data/320193/000032019325000008/aapl-20241228.htm',\n",
              " 'https://www.sec.gov/Archives/edgar/data/320193/000032019324000081/aapl-20240629.htm',\n",
              " 'https://www.sec.gov/Archives/edgar/data/320193/000032019324000069/aapl-20240330.htm',\n",
              " 'https://www.sec.gov/Archives/edgar/data/320193/000032019324000006/aapl-20231230.htm',\n",
              " 'https://www.sec.gov/Archives/edgar/data/320193/000032019323000077/aapl-20230701.htm',\n",
              " 'https://www.sec.gov/Archives/edgar/data/320193/000032019323000064/aapl-20230401.htm',\n",
              " 'https://www.sec.gov/Archives/edgar/data/320193/000032019323000006/aapl-20221231.htm',\n",
              " 'https://www.sec.gov/Archives/edgar/data/320193/000032019322000070/aapl-20220625.htm',\n",
              " 'https://www.sec.gov/Archives/edgar/data/320193/000032019322000059/aapl-20220326.htm',\n",
              " 'https://www.sec.gov/Archives/edgar/data/320193/000032019322000007/aapl-20211225.htm',\n",
              " 'https://www.sec.gov/Archives/edgar/data/320193/000032019321000065/aapl-20210626.htm',\n",
              " 'https://www.sec.gov/Archives/edgar/data/320193/000032019321000056/aapl-20210327.htm',\n",
              " 'https://www.sec.gov/Archives/edgar/data/320193/000032019321000010/aapl-20201226.htm',\n",
              " 'https://www.sec.gov/Archives/edgar/data/320193/000032019320000062/aapl-20200627.htm']"
            ]
          },
          "metadata": {},
          "execution_count": 9
        }
      ]
    },
    {
      "cell_type": "code",
      "source": [
        "headers={'User-Agent':'Dummy Company jane.dow@dummy.com','Accept-Encoding':'gzip, deflate','Host':'www.sec.gov'}\n",
        "\n",
        "response = requests.get('https://www.sec.gov/Archives/edgar/data/320193/000032019325000057/aapl-20250329.htm',\n",
        "                        headers=headers, allow_redirects=True)\n",
        "\n",
        "soup = bs.BeautifulSoup(response.text, features='lxml')"
      ],
      "metadata": {
        "id": "PasMj8O-ydBQ"
      },
      "execution_count": 13,
      "outputs": []
    },
    {
      "cell_type": "code",
      "source": [
        "len(soup.text)"
      ],
      "metadata": {
        "colab": {
          "base_uri": "https://localhost:8080/"
        },
        "id": "qDC3RxDO1WvQ",
        "outputId": "cd4325e8-10a8-4e2d-8153-8935c24f7aaa"
      },
      "execution_count": 14,
      "outputs": [
        {
          "output_type": "execute_result",
          "data": {
            "text/plain": [
              "80920"
            ]
          },
          "metadata": {},
          "execution_count": 14
        }
      ]
    },
    {
      "cell_type": "code",
      "source": [
        "corpus = soup.text.replace('\\n', ' ')"
      ],
      "metadata": {
        "id": "4EpuBSl61Zo9"
      },
      "execution_count": 15,
      "outputs": []
    },
    {
      "cell_type": "code",
      "source": [
        "len(corpus)"
      ],
      "metadata": {
        "colab": {
          "base_uri": "https://localhost:8080/"
        },
        "id": "-UDW52n51iV3",
        "outputId": "875f69ac-1846-4c63-908a-9456d2162730"
      },
      "execution_count": 16,
      "outputs": [
        {
          "output_type": "execute_result",
          "data": {
            "text/plain": [
              "80920"
            ]
          },
          "metadata": {},
          "execution_count": 16
        }
      ]
    },
    {
      "cell_type": "code",
      "source": [
        "corpus[-100:]"
      ],
      "metadata": {
        "colab": {
          "base_uri": "https://localhost:8080/",
          "height": 35
        },
        "id": "U18c-LZs1u3s",
        "outputId": "75a5ec61-49ba-41b0-986d-a2f49335ca6c"
      },
      "execution_count": 17,
      "outputs": [
        {
          "output_type": "execute_result",
          "data": {
            "text/plain": [
              "' ParekhKevan ParekhSenior Vice President,Chief Financial OfficerApple Inc. | Q2 2025 Form 10-Q | 23 '"
            ],
            "application/vnd.google.colaboratory.intrinsic+json": {
              "type": "string"
            }
          },
          "metadata": {},
          "execution_count": 17
        }
      ]
    },
    {
      "cell_type": "code",
      "source": [],
      "metadata": {
        "id": "InLFdOAS2Z4k"
      },
      "execution_count": null,
      "outputs": []
    }
  ]
}