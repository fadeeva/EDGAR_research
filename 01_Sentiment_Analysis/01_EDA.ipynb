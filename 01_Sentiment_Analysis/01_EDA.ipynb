{
  "nbformat": 4,
  "nbformat_minor": 0,
  "metadata": {
    "colab": {
      "provenance": [],
      "toc_visible": true,
      "authorship_tag": "ABX9TyOiydaTZVV2Ze/0yiHEdxWa"
    },
    "kernelspec": {
      "name": "python3",
      "display_name": "Python 3"
    },
    "language_info": {
      "name": "python"
    }
  },
  "cells": [
    {
      "cell_type": "code",
      "execution_count": 1,
      "metadata": {
        "id": "09tUqn9XxPGz"
      },
      "outputs": [],
      "source": [
        "import pickle as pk\n",
        "import requests\n",
        "\n",
        "import bs4 as bs\n",
        "from bs4 import XMLParsedAsHTMLWarning\n",
        "import warnings\n",
        "\n",
        "warnings.filterwarnings('ignore', category=XMLParsedAsHTMLWarning)"
      ]
    },
    {
      "cell_type": "markdown",
      "source": [
        "## Get Data"
      ],
      "metadata": {
        "id": "y-kfDYrhR0Tl"
      }
    },
    {
      "cell_type": "code",
      "source": [
        "url = 'https://github.com/fadeeva/EDGAR_research/raw/refs/heads/master/data/reports.pickle'\n",
        "response = requests.get(url)\n",
        "reports = pk.loads(response.content)\n",
        "\n",
        "len(reports.keys())"
      ],
      "metadata": {
        "colab": {
          "base_uri": "https://localhost:8080/"
        },
        "id": "DvQQAdb-yDz-",
        "outputId": "cadf7d07-2764-4da1-c699-468a5459b9f9"
      },
      "execution_count": 2,
      "outputs": [
        {
          "output_type": "execute_result",
          "data": {
            "text/plain": [
              "496"
            ]
          },
          "metadata": {},
          "execution_count": 2
        }
      ]
    },
    {
      "cell_type": "markdown",
      "source": [
        "### Get Random Reports"
      ],
      "metadata": {
        "id": "Etjf4NTqqYcw"
      }
    },
    {
      "cell_type": "code",
      "source": [
        "import random\n",
        "\n",
        "def get_rand_reports(tickers:list=[], number_of_reports:int=5)->dict:\n",
        "    tickers = random.sample(list(reports.keys()), 5) if not tickers else tickers\n",
        "    data = {ticker: random.sample(reports[ticker], number_of_reports) for ticker in tickers}\n",
        "\n",
        "    return data"
      ],
      "metadata": {
        "id": "Kfa8NCEnOB8Y"
      },
      "execution_count": 3,
      "outputs": []
    },
    {
      "cell_type": "code",
      "source": [
        "rand_reports = get_rand_reports()\n",
        "rand_reports"
      ],
      "metadata": {
        "colab": {
          "base_uri": "https://localhost:8080/"
        },
        "id": "WZ9vnjqGx45Y",
        "outputId": "92458de6-1882-4baa-95e5-26464dd7215a"
      },
      "execution_count": 4,
      "outputs": [
        {
          "output_type": "execute_result",
          "data": {
            "text/plain": [
              "{'NTAP': ['https://www.sec.gov/Archives/edgar/data/1002047/000095017023005545/ntap-20230127.htm',\n",
              "  'https://www.sec.gov/Archives/edgar/data/1002047/000095017022025960/ntap-20221028.htm',\n",
              "  'https://www.sec.gov/Archives/edgar/data/1002047/000095017022017904/ntap-20220729.htm',\n",
              "  'https://www.sec.gov/Archives/edgar/data/1002047/000095017023045061/ntap-20230728.htm',\n",
              "  'https://www.sec.gov/Archives/edgar/data/1002047/000095017021005014/ntap-20211029.htm'],\n",
              " 'POOL': ['https://www.sec.gov/Archives/edgar/data/945841/000094584124000160/pool-20240930.htm',\n",
              "  'https://www.sec.gov/Archives/edgar/data/945841/000094584121000178/pool-20210930.htm',\n",
              "  'https://www.sec.gov/Archives/edgar/data/945841/000094584124000136/pool-20240630.htm',\n",
              "  'https://www.sec.gov/Archives/edgar/data/945841/000094584123000135/pool-20230930.htm',\n",
              "  'https://www.sec.gov/Archives/edgar/data/945841/000094584123000117/pool-20230630.htm'],\n",
              " 'PLD': ['https://www.sec.gov/Archives/edgar/data/1045609/000156459022035526/pld-10q_20220930.htm',\n",
              "  'https://www.sec.gov/Archives/edgar/data/1045609/000156459021052041/pld-10q_20210930.htm',\n",
              "  'https://www.sec.gov/Archives/edgar/data/1045609/000156459021020897/pld-10q_20210331.htm',\n",
              "  'https://www.sec.gov/Archives/edgar/data/1045609/000095017025060107/pld-20250331.htm',\n",
              "  'https://www.sec.gov/Archives/edgar/data/1045609/000156459020033912/pld-10q_20200630.htm'],\n",
              " 'ON': ['https://www.sec.gov/Archives/edgar/data/91440/000009144020000025/sna-20200627.htm',\n",
              "  'https://www.sec.gov/Archives/edgar/data/1580262/000147793224002113/rton_10q.htm',\n",
              "  'https://www.sec.gov/Archives/edgar/data/1580490/000114036123009983/brhc10047962_10qa.htm',\n",
              "  'https://www.sec.gov/Archives/edgar/data/1097864/000162828024033229/on-20240628.htm',\n",
              "  'https://www.sec.gov/Archives/edgar/data/1580490/000114036122020285/brhc10037906_10q.htm'],\n",
              " 'ED': ['https://www.sec.gov/Archives/edgar/data/1058290/000105829022000321/ctsh-20220930.htm',\n",
              "  'https://www.sec.gov/Archives/edgar/data/1058290/000105829020000048/ctsh-20200630.htm',\n",
              "  'https://www.sec.gov/Archives/edgar/data/1058290/000105829022000241/ctsh-20220630.htm',\n",
              "  'https://www.sec.gov/Archives/edgar/data/1058290/000105829024000116/ctsh-20240331.htm',\n",
              "  'https://www.sec.gov/Archives/edgar/data/1058290/000105829024000327/ctsh-20240930.htm']}"
            ]
          },
          "metadata": {},
          "execution_count": 4
        }
      ]
    },
    {
      "cell_type": "code",
      "source": [
        "aapl_reports = get_rand_reports(['AAPL'], 10)\n",
        "aapl_reports"
      ],
      "metadata": {
        "id": "QHvCGESZ_TIc",
        "outputId": "539da0f0-7036-4901-8d05-20caebe598c3",
        "colab": {
          "base_uri": "https://localhost:8080/"
        }
      },
      "execution_count": 5,
      "outputs": [
        {
          "output_type": "execute_result",
          "data": {
            "text/plain": [
              "{'AAPL': ['https://www.sec.gov/Archives/edgar/data/320193/000032019321000056/aapl-20210327.htm',\n",
              "  'https://www.sec.gov/Archives/edgar/data/320193/000032019324000081/aapl-20240629.htm',\n",
              "  'https://www.sec.gov/Archives/edgar/data/320193/000032019324000069/aapl-20240330.htm',\n",
              "  'https://www.sec.gov/Archives/edgar/data/320193/000032019323000077/aapl-20230701.htm',\n",
              "  'https://www.sec.gov/Archives/edgar/data/320193/000032019321000065/aapl-20210626.htm',\n",
              "  'https://www.sec.gov/Archives/edgar/data/320193/000032019324000006/aapl-20231230.htm',\n",
              "  'https://www.sec.gov/Archives/edgar/data/320193/000032019325000008/aapl-20241228.htm',\n",
              "  'https://www.sec.gov/Archives/edgar/data/320193/000032019322000070/aapl-20220625.htm',\n",
              "  'https://www.sec.gov/Archives/edgar/data/320193/000032019325000057/aapl-20250329.htm',\n",
              "  'https://www.sec.gov/Archives/edgar/data/320193/000032019320000062/aapl-20200627.htm']}"
            ]
          },
          "metadata": {},
          "execution_count": 5
        }
      ]
    },
    {
      "cell_type": "markdown",
      "source": [
        "### Get Corpus"
      ],
      "metadata": {
        "id": "T8hrkhSlqjGb"
      }
    },
    {
      "cell_type": "code",
      "source": [
        "def get_report_corpus(url:str)->bs:\n",
        "    headers={\n",
        "        'User-Agent':'Dummy Company jane.dow@dummy.com',\n",
        "        'Accept-Encoding':'gzip, deflate',\n",
        "        'Host':'www.sec.gov'\n",
        "    }\n",
        "    response = requests.get(url, headers=headers, allow_redirects=True)\n",
        "\n",
        "    return bs.BeautifulSoup(response.text, features='lxml')\n"
      ],
      "metadata": {
        "id": "PasMj8O-ydBQ"
      },
      "execution_count": 6,
      "outputs": []
    },
    {
      "cell_type": "code",
      "source": [
        "corpus = get_report_corpus(rand_reports['NTAP'][0])"
      ],
      "metadata": {
        "id": "Cn5WBNIMJjOP"
      },
      "execution_count": 11,
      "outputs": []
    },
    {
      "cell_type": "code",
      "source": [
        "ticker, date = corpus.find('title').text.split('-')\n",
        "ticker, date"
      ],
      "metadata": {
        "id": "F_qji1Qur9xy",
        "outputId": "739e3989-bc9d-4919-a233-86c4cd8f1877",
        "colab": {
          "base_uri": "https://localhost:8080/"
        }
      },
      "execution_count": 40,
      "outputs": [
        {
          "output_type": "execute_result",
          "data": {
            "text/plain": [
              "('10', 'Q')"
            ]
          },
          "metadata": {},
          "execution_count": 40
        }
      ]
    },
    {
      "cell_type": "code",
      "source": [
        "# corpus.find(id='f-5').text # Commission File Numbe"
      ],
      "metadata": {
        "id": "VA6WXF2AsYgC"
      },
      "execution_count": 15,
      "outputs": []
    },
    {
      "cell_type": "code",
      "source": [
        "# corpus.find(id='f-8').text # I.R.S. Employer Identification No"
      ],
      "metadata": {
        "id": "KfQyChrFsLKl"
      },
      "execution_count": 16,
      "outputs": []
    },
    {
      "cell_type": "markdown",
      "source": [
        "## Consolidated Balance Sheet"
      ],
      "metadata": {
        "id": "TAR5YV53FUEw"
      }
    },
    {
      "cell_type": "markdown",
      "source": [
        "## Management’s Discussion and Analysis of Financial Condition and Results of Operations"
      ],
      "metadata": {
        "id": "Ya45EJyuQ0WH"
      }
    },
    {
      "cell_type": "code",
      "source": [
        "title_vars = [\n",
        "    'ITEM 2. Management’s Discussion and Analysis of Financial Condition and Results of Operations'.lower(),\n",
        "    'Management’s Discussion and Analysis of Financial Condition and Results of Operations'.lower(),\n",
        "    'item 2', 'item 2.', 'item 2:'\n",
        "]"
      ],
      "metadata": {
        "id": "yOP6SQ_gN7uh"
      },
      "execution_count": 32,
      "outputs": []
    },
    {
      "cell_type": "code",
      "source": [
        "def get_ids(corpus):\n",
        "    mdaf = corpus.find_all('span')\n",
        "    try:\n",
        "        # tag = [tag for tag in mdaf if tag.string.lower() in title_vars][0]\n",
        "        tag = [tag for tag in mdaf][0]\n",
        "        return tag.find('a').get('href')[1:], tag.parent.parent.parent.next_sibling.find('a').get('href')[1:]\n",
        "    except AttributeError:\n",
        "        return 'no tag found'\n"
      ],
      "metadata": {
        "id": "9_FByKWaMWOt"
      },
      "execution_count": 38,
      "outputs": []
    },
    {
      "cell_type": "code",
      "source": [
        "get_ids(corpus)"
      ],
      "metadata": {
        "id": "oMKz3B-PSlrO",
        "outputId": "1cd058d8-c323-425d-ffb8-3faaa154ea67",
        "colab": {
          "base_uri": "https://localhost:8080/",
          "height": 35
        }
      },
      "execution_count": 39,
      "outputs": [
        {
          "output_type": "execute_result",
          "data": {
            "text/plain": [
              "'no tag found'"
            ],
            "application/vnd.google.colaboratory.intrinsic+json": {
              "type": "string"
            }
          },
          "metadata": {},
          "execution_count": 39
        }
      ]
    },
    {
      "cell_type": "code",
      "source": [
        "reports['LHX'][:3]"
      ],
      "metadata": {
        "id": "82LcpyMIYQ6C",
        "outputId": "c4401544-2001-4994-824f-3a4f01d25f01",
        "colab": {
          "base_uri": "https://localhost:8080/"
        }
      },
      "execution_count": null,
      "outputs": [
        {
          "output_type": "execute_result",
          "data": {
            "text/plain": [
              "['https://www.sec.gov/Archives/edgar/data/202058/000020205825000101/hrs-20250328.htm',\n",
              " 'https://www.sec.gov/Archives/edgar/data/202058/000020205824000168/hrs-20240927.htm',\n",
              " 'https://www.sec.gov/Archives/edgar/data/202058/000020205824000140/hrs-20240628.htm']"
            ]
          },
          "metadata": {},
          "execution_count": 38
        }
      ]
    },
    {
      "cell_type": "code",
      "source": [
        "corpus_ = get_report_corpus('https://www.sec.gov/Archives/edgar/data/202058/000020205824000140/hrs-20240627.htm')"
      ],
      "metadata": {
        "id": "ukr-8sOBZqg0"
      },
      "execution_count": null,
      "outputs": []
    },
    {
      "cell_type": "code",
      "source": [
        "get_ids(corpus_)"
      ],
      "metadata": {
        "id": "QSaEjjQ2aJe9",
        "outputId": "c16d7404-4f26-4092-a358-753cf274f64d",
        "colab": {
          "base_uri": "https://localhost:8080/",
          "height": 263
        }
      },
      "execution_count": null,
      "outputs": [
        {
          "output_type": "error",
          "ename": "IndexError",
          "evalue": "list index out of range",
          "traceback": [
            "\u001b[0;31m---------------------------------------------------------------------------\u001b[0m",
            "\u001b[0;31mIndexError\u001b[0m                                Traceback (most recent call last)",
            "\u001b[0;32m/tmp/ipython-input-2733074593.py\u001b[0m in \u001b[0;36m<cell line: 0>\u001b[0;34m()\u001b[0m\n\u001b[0;32m----> 1\u001b[0;31m \u001b[0mget_ids\u001b[0m\u001b[0;34m(\u001b[0m\u001b[0mcorpus_\u001b[0m\u001b[0;34m)\u001b[0m\u001b[0;34m\u001b[0m\u001b[0;34m\u001b[0m\u001b[0m\n\u001b[0m",
            "\u001b[0;32m/tmp/ipython-input-3665282271.py\u001b[0m in \u001b[0;36mget_ids\u001b[0;34m(corpus)\u001b[0m\n\u001b[1;32m      1\u001b[0m \u001b[0;32mdef\u001b[0m \u001b[0mget_ids\u001b[0m\u001b[0;34m(\u001b[0m\u001b[0mcorpus\u001b[0m\u001b[0;34m)\u001b[0m\u001b[0;34m:\u001b[0m\u001b[0;34m\u001b[0m\u001b[0;34m\u001b[0m\u001b[0m\n\u001b[1;32m      2\u001b[0m     \u001b[0mmdaf\u001b[0m \u001b[0;34m=\u001b[0m \u001b[0mcorpus\u001b[0m\u001b[0;34m.\u001b[0m\u001b[0mfind_all\u001b[0m\u001b[0;34m(\u001b[0m\u001b[0;34m'span'\u001b[0m\u001b[0;34m)\u001b[0m\u001b[0;34m\u001b[0m\u001b[0;34m\u001b[0m\u001b[0m\n\u001b[0;32m----> 3\u001b[0;31m     \u001b[0mtag\u001b[0m \u001b[0;34m=\u001b[0m \u001b[0;34m[\u001b[0m\u001b[0mtag\u001b[0m \u001b[0;32mfor\u001b[0m \u001b[0mtag\u001b[0m \u001b[0;32min\u001b[0m \u001b[0mmdaf\u001b[0m \u001b[0;32mif\u001b[0m \u001b[0mtag\u001b[0m\u001b[0;34m.\u001b[0m\u001b[0mstring\u001b[0m \u001b[0;32min\u001b[0m \u001b[0mtitle_vars\u001b[0m\u001b[0;34m]\u001b[0m\u001b[0;34m[\u001b[0m\u001b[0;36m0\u001b[0m\u001b[0;34m]\u001b[0m\u001b[0;34m\u001b[0m\u001b[0;34m\u001b[0m\u001b[0m\n\u001b[0m\u001b[1;32m      4\u001b[0m \u001b[0;34m\u001b[0m\u001b[0m\n\u001b[1;32m      5\u001b[0m     \u001b[0;32mreturn\u001b[0m \u001b[0mtag\u001b[0m\u001b[0;34m.\u001b[0m\u001b[0mfind\u001b[0m\u001b[0;34m(\u001b[0m\u001b[0;34m'a'\u001b[0m\u001b[0;34m)\u001b[0m\u001b[0;34m.\u001b[0m\u001b[0mget\u001b[0m\u001b[0;34m(\u001b[0m\u001b[0;34m'href'\u001b[0m\u001b[0;34m)\u001b[0m\u001b[0;34m[\u001b[0m\u001b[0;36m1\u001b[0m\u001b[0;34m:\u001b[0m\u001b[0;34m]\u001b[0m\u001b[0;34m,\u001b[0m \u001b[0mtag\u001b[0m\u001b[0;34m.\u001b[0m\u001b[0mparent\u001b[0m\u001b[0;34m.\u001b[0m\u001b[0mparent\u001b[0m\u001b[0;34m.\u001b[0m\u001b[0mparent\u001b[0m\u001b[0;34m.\u001b[0m\u001b[0mnext_sibling\u001b[0m\u001b[0;34m.\u001b[0m\u001b[0mfind\u001b[0m\u001b[0;34m(\u001b[0m\u001b[0;34m'a'\u001b[0m\u001b[0;34m)\u001b[0m\u001b[0;34m.\u001b[0m\u001b[0mget\u001b[0m\u001b[0;34m(\u001b[0m\u001b[0;34m'href'\u001b[0m\u001b[0;34m)\u001b[0m\u001b[0;34m[\u001b[0m\u001b[0;36m1\u001b[0m\u001b[0;34m:\u001b[0m\u001b[0;34m]\u001b[0m\u001b[0;34m\u001b[0m\u001b[0;34m\u001b[0m\u001b[0m\n",
            "\u001b[0;31mIndexError\u001b[0m: list index out of range"
          ]
        }
      ]
    },
    {
      "cell_type": "code",
      "source": [
        "mdaf = corpus.find_all('span')\n",
        "\n",
        "for tag in mdaf:\n",
        "    if tag.text.upper()=='ITEM 2.': #\n",
        "        print(tag)\n",
        "        break\n"
      ],
      "metadata": {
        "id": "VeCEGvBdS7Yu",
        "outputId": "af31a0bd-799c-4789-f202-92ee119dfe1e",
        "colab": {
          "base_uri": "https://localhost:8080/"
        }
      },
      "execution_count": null,
      "outputs": [
        {
          "output_type": "stream",
          "name": "stdout",
          "text": [
            "<span style=\"color:#0000ff;font-family:'Helvetica',sans-serif;font-size:9pt;font-weight:400;line-height:100%;text-decoration:underline\"><a href=\"#i056866be11a54295b8c21e0877b67331_67\" style=\"color:#0000ff;font-family:'Helvetica',sans-serif;font-size:9pt;font-weight:400;line-height:100%;text-decoration:underline\">Item 2.</a></span>\n"
          ]
        }
      ]
    },
    {
      "cell_type": "code",
      "source": [],
      "metadata": {
        "id": "K8_62ki9aMTe"
      },
      "execution_count": null,
      "outputs": []
    }
  ]
}