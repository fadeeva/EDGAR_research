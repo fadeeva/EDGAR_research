{
  "nbformat": 4,
  "nbformat_minor": 0,
  "metadata": {
    "colab": {
      "provenance": [],
      "toc_visible": true,
      "authorship_tag": "ABX9TyPH6q/CdJLDXD4YoIHlEdZ2"
    },
    "kernelspec": {
      "name": "python3",
      "display_name": "Python 3"
    },
    "language_info": {
      "name": "python"
    }
  },
  "cells": [
    {
      "cell_type": "code",
      "execution_count": 1,
      "metadata": {
        "id": "09tUqn9XxPGz"
      },
      "outputs": [],
      "source": [
        "import pickle as pk\n",
        "import requests\n",
        "\n",
        "import bs4 as bs\n",
        "from bs4 import XMLParsedAsHTMLWarning\n",
        "import warnings\n",
        "\n",
        "warnings.filterwarnings(\"ignore\", category=XMLParsedAsHTMLWarning)"
      ]
    },
    {
      "cell_type": "markdown",
      "source": [
        "## Get Data"
      ],
      "metadata": {
        "id": "y-kfDYrhR0Tl"
      }
    },
    {
      "cell_type": "code",
      "source": [
        "url = 'https://github.com/fadeeva/EDGAR_research/raw/refs/heads/master/data/reports.pickle'\n",
        "response = requests.get(url)\n",
        "reports = pk.loads(response.content)\n",
        "\n",
        "len(reports.keys())"
      ],
      "metadata": {
        "colab": {
          "base_uri": "https://localhost:8080/"
        },
        "id": "DvQQAdb-yDz-",
        "outputId": "4768d536-b415-45eb-fdb7-ce75037d41d6"
      },
      "execution_count": 2,
      "outputs": [
        {
          "output_type": "execute_result",
          "data": {
            "text/plain": [
              "496"
            ]
          },
          "metadata": {},
          "execution_count": 2
        }
      ]
    },
    {
      "cell_type": "code",
      "source": [
        "import random\n",
        "\n",
        "selected_tickers = random.sample(list(reports.keys()), 5)\n",
        "selected_tickers"
      ],
      "metadata": {
        "id": "Kfa8NCEnOB8Y",
        "outputId": "5418a851-cbe6-4eef-e594-6372ce8c249a",
        "colab": {
          "base_uri": "https://localhost:8080/"
        }
      },
      "execution_count": 9,
      "outputs": [
        {
          "output_type": "execute_result",
          "data": {
            "text/plain": [
              "['DHI', 'LHX', 'TER', 'INVH', 'ED']"
            ]
          },
          "metadata": {},
          "execution_count": 9
        }
      ]
    },
    {
      "cell_type": "code",
      "source": [
        "reports['AAPL'][:3]"
      ],
      "metadata": {
        "colab": {
          "base_uri": "https://localhost:8080/"
        },
        "id": "WZ9vnjqGx45Y",
        "outputId": "f5610b5b-e07f-4cdb-a6ac-f7d2752995ef"
      },
      "execution_count": 4,
      "outputs": [
        {
          "output_type": "execute_result",
          "data": {
            "text/plain": [
              "['https://www.sec.gov/Archives/edgar/data/320193/000032019325000057/aapl-20250329.htm',\n",
              " 'https://www.sec.gov/Archives/edgar/data/320193/000032019325000008/aapl-20241228.htm',\n",
              " 'https://www.sec.gov/Archives/edgar/data/320193/000032019324000081/aapl-20240629.htm']"
            ]
          },
          "metadata": {},
          "execution_count": 4
        }
      ]
    },
    {
      "cell_type": "code",
      "source": [
        "reports['DHI'][:3]"
      ],
      "metadata": {
        "id": "Jxwn7fu-N0vS",
        "outputId": "ff170044-0941-4d30-ee14-633c5185be38",
        "colab": {
          "base_uri": "https://localhost:8080/"
        }
      },
      "execution_count": 10,
      "outputs": [
        {
          "output_type": "execute_result",
          "data": {
            "text/plain": [
              "['https://www.sec.gov/Archives/edgar/data/1393883/000139388325000080/dhx-20250331.htm',\n",
              " 'https://www.sec.gov/Archives/edgar/data/882184/000088218425000024/dhi-20250331.htm',\n",
              " 'https://www.sec.gov/Archives/edgar/data/882184/000088218425000014/dhi-20241231.htm']"
            ]
          },
          "metadata": {},
          "execution_count": 10
        }
      ]
    },
    {
      "cell_type": "code",
      "source": [
        "reports['LHX'][:3]"
      ],
      "metadata": {
        "id": "0zsVYqecPs0v",
        "outputId": "7f8ff13d-bcd9-4e3d-c2d7-85ee70725b82",
        "colab": {
          "base_uri": "https://localhost:8080/"
        }
      },
      "execution_count": 11,
      "outputs": [
        {
          "output_type": "execute_result",
          "data": {
            "text/plain": [
              "['https://www.sec.gov/Archives/edgar/data/202058/000020205825000101/hrs-20250328.htm',\n",
              " 'https://www.sec.gov/Archives/edgar/data/202058/000020205824000168/hrs-20240927.htm',\n",
              " 'https://www.sec.gov/Archives/edgar/data/202058/000020205824000140/hrs-20240628.htm']"
            ]
          },
          "metadata": {},
          "execution_count": 11
        }
      ]
    },
    {
      "cell_type": "code",
      "source": [
        "headers={'User-Agent':'Dummy Company jane.dow@dummy.com','Accept-Encoding':'gzip, deflate','Host':'www.sec.gov'}\n",
        "\n",
        "response = requests.get('https://www.sec.gov/Archives/edgar/data/320193/000032019325000057/aapl-20250329.htm',\n",
        "                        headers=headers, allow_redirects=True)\n",
        "\n",
        "corpus = bs.BeautifulSoup(response.text, features='lxml')"
      ],
      "metadata": {
        "id": "PasMj8O-ydBQ"
      },
      "execution_count": null,
      "outputs": []
    },
    {
      "cell_type": "code",
      "source": [
        "ticker, date = corpus.find('title').text.split('-')\n",
        "ticker, date"
      ],
      "metadata": {
        "id": "F_qji1Qur9xy",
        "outputId": "53340dd6-52bd-4a61-8cc2-2aae0702856f",
        "colab": {
          "base_uri": "https://localhost:8080/"
        }
      },
      "execution_count": null,
      "outputs": [
        {
          "output_type": "execute_result",
          "data": {
            "text/plain": [
              "('aapl', '20250329')"
            ]
          },
          "metadata": {},
          "execution_count": 15
        }
      ]
    },
    {
      "cell_type": "code",
      "source": [
        "corpus.find(id='f-5').text # Commission File Numbe"
      ],
      "metadata": {
        "id": "VA6WXF2AsYgC",
        "outputId": "7a1b226e-d2df-4d5c-de8f-6b9edf95b27f",
        "colab": {
          "base_uri": "https://localhost:8080/",
          "height": 35
        }
      },
      "execution_count": null,
      "outputs": [
        {
          "output_type": "execute_result",
          "data": {
            "text/plain": [
              "'001-36743'"
            ],
            "application/vnd.google.colaboratory.intrinsic+json": {
              "type": "string"
            }
          },
          "metadata": {},
          "execution_count": 16
        }
      ]
    },
    {
      "cell_type": "code",
      "source": [
        "corpus.find(id='f-8').text # I.R.S. Employer Identification No"
      ],
      "metadata": {
        "id": "KfQyChrFsLKl",
        "outputId": "dd8113b0-1b33-4fa0-9212-05b3bfcce22f",
        "colab": {
          "base_uri": "https://localhost:8080/",
          "height": 35
        }
      },
      "execution_count": null,
      "outputs": [
        {
          "output_type": "execute_result",
          "data": {
            "text/plain": [
              "'94-2404110'"
            ],
            "application/vnd.google.colaboratory.intrinsic+json": {
              "type": "string"
            }
          },
          "metadata": {},
          "execution_count": 17
        }
      ]
    },
    {
      "cell_type": "markdown",
      "source": [
        "## Consolidated Balance Sheet"
      ],
      "metadata": {
        "id": "TAR5YV53FUEw"
      }
    },
    {
      "cell_type": "markdown",
      "source": [
        "## Management’s Discussion and Analysis of Financial Condition and Results of Operations"
      ],
      "metadata": {
        "id": "Ya45EJyuQ0WH"
      }
    },
    {
      "cell_type": "code",
      "source": [],
      "metadata": {
        "id": "R9AAJTx6Phlb"
      },
      "execution_count": null,
      "outputs": []
    }
  ]
}