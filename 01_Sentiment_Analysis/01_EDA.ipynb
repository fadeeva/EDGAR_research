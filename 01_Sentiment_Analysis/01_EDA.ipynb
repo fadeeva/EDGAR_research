{
  "nbformat": 4,
  "nbformat_minor": 0,
  "metadata": {
    "colab": {
      "provenance": [],
      "toc_visible": true,
      "authorship_tag": "ABX9TyN08COjxqN5u5sCwCortb9+"
    },
    "kernelspec": {
      "name": "python3",
      "display_name": "Python 3"
    },
    "language_info": {
      "name": "python"
    }
  },
  "cells": [
    {
      "cell_type": "code",
      "execution_count": 1,
      "metadata": {
        "id": "09tUqn9XxPGz"
      },
      "outputs": [],
      "source": [
        "import pickle as pk\n",
        "import requests\n",
        "\n",
        "import bs4 as bs\n",
        "from bs4 import XMLParsedAsHTMLWarning\n",
        "import warnings\n",
        "\n",
        "warnings.filterwarnings(\"ignore\", category=XMLParsedAsHTMLWarning)"
      ]
    },
    {
      "cell_type": "code",
      "source": [
        "url = 'https://github.com/fadeeva/EDGAR_research/raw/refs/heads/master/data/reports.pickle'\n",
        "response = requests.get(url)\n",
        "reports = pk.loads(response.content)\n",
        "\n",
        "len(reports.keys())"
      ],
      "metadata": {
        "colab": {
          "base_uri": "https://localhost:8080/"
        },
        "id": "DvQQAdb-yDz-",
        "outputId": "a6290928-b614-47dc-d93d-ad8ecd062204"
      },
      "execution_count": 2,
      "outputs": [
        {
          "output_type": "execute_result",
          "data": {
            "text/plain": [
              "496"
            ]
          },
          "metadata": {},
          "execution_count": 2
        }
      ]
    },
    {
      "cell_type": "code",
      "source": [
        "reports['AAPL']"
      ],
      "metadata": {
        "colab": {
          "base_uri": "https://localhost:8080/"
        },
        "id": "WZ9vnjqGx45Y",
        "outputId": "a90c8ac1-7dbb-4398-e95c-1a0a2d395ffe"
      },
      "execution_count": 3,
      "outputs": [
        {
          "output_type": "execute_result",
          "data": {
            "text/plain": [
              "['https://www.sec.gov/Archives/edgar/data/320193/000032019325000057/aapl-20250329.htm',\n",
              " 'https://www.sec.gov/Archives/edgar/data/320193/000032019325000008/aapl-20241228.htm',\n",
              " 'https://www.sec.gov/Archives/edgar/data/320193/000032019324000081/aapl-20240629.htm',\n",
              " 'https://www.sec.gov/Archives/edgar/data/320193/000032019324000069/aapl-20240330.htm',\n",
              " 'https://www.sec.gov/Archives/edgar/data/320193/000032019324000006/aapl-20231230.htm',\n",
              " 'https://www.sec.gov/Archives/edgar/data/320193/000032019323000077/aapl-20230701.htm',\n",
              " 'https://www.sec.gov/Archives/edgar/data/320193/000032019323000064/aapl-20230401.htm',\n",
              " 'https://www.sec.gov/Archives/edgar/data/320193/000032019323000006/aapl-20221231.htm',\n",
              " 'https://www.sec.gov/Archives/edgar/data/320193/000032019322000070/aapl-20220625.htm',\n",
              " 'https://www.sec.gov/Archives/edgar/data/320193/000032019322000059/aapl-20220326.htm',\n",
              " 'https://www.sec.gov/Archives/edgar/data/320193/000032019322000007/aapl-20211225.htm',\n",
              " 'https://www.sec.gov/Archives/edgar/data/320193/000032019321000065/aapl-20210626.htm',\n",
              " 'https://www.sec.gov/Archives/edgar/data/320193/000032019321000056/aapl-20210327.htm',\n",
              " 'https://www.sec.gov/Archives/edgar/data/320193/000032019321000010/aapl-20201226.htm',\n",
              " 'https://www.sec.gov/Archives/edgar/data/320193/000032019320000062/aapl-20200627.htm']"
            ]
          },
          "metadata": {},
          "execution_count": 3
        }
      ]
    },
    {
      "cell_type": "code",
      "source": [
        "headers={'User-Agent':'Dummy Company jane.dow@dummy.com','Accept-Encoding':'gzip, deflate','Host':'www.sec.gov'}\n",
        "\n",
        "response = requests.get('https://www.sec.gov/Archives/edgar/data/320193/000032019325000057/aapl-20250329.htm',\n",
        "                        headers=headers, allow_redirects=True)\n",
        "\n",
        "soup = bs.BeautifulSoup(response.text, features='lxml')"
      ],
      "metadata": {
        "id": "PasMj8O-ydBQ"
      },
      "execution_count": 4,
      "outputs": []
    },
    {
      "cell_type": "code",
      "source": [
        "soup.find('title')"
      ],
      "metadata": {
        "id": "F_qji1Qur9xy",
        "outputId": "3264e358-2e36-451d-8244-1ccd7197acad",
        "colab": {
          "base_uri": "https://localhost:8080/"
        }
      },
      "execution_count": 11,
      "outputs": [
        {
          "output_type": "execute_result",
          "data": {
            "text/plain": [
              "<title>aapl-20250329</title>"
            ]
          },
          "metadata": {},
          "execution_count": 11
        }
      ]
    },
    {
      "cell_type": "code",
      "source": [
        "soup.find(id='f-6')"
      ],
      "metadata": {
        "id": "VA6WXF2AsYgC",
        "outputId": "590864b3-606f-4ce2-931a-212fbf5a22f0",
        "colab": {
          "base_uri": "https://localhost:8080/"
        }
      },
      "execution_count": 17,
      "outputs": [
        {
          "output_type": "execute_result",
          "data": {
            "text/plain": [
              "<ix:nonnumeric contextref=\"c-1\" id=\"f-6\" name=\"dei:EntityRegistrantName\">Apple Inc.</ix:nonnumeric>"
            ]
          },
          "metadata": {},
          "execution_count": 17
        }
      ]
    },
    {
      "cell_type": "code",
      "source": [
        "len(soup.text)"
      ],
      "metadata": {
        "colab": {
          "base_uri": "https://localhost:8080/"
        },
        "id": "qDC3RxDO1WvQ",
        "outputId": "58f68c55-022b-4a32-d4d6-119e6f7199ef"
      },
      "execution_count": 5,
      "outputs": [
        {
          "output_type": "execute_result",
          "data": {
            "text/plain": [
              "80920"
            ]
          },
          "metadata": {},
          "execution_count": 5
        }
      ]
    },
    {
      "cell_type": "code",
      "source": [
        "corpus = soup.text"
      ],
      "metadata": {
        "id": "4EpuBSl61Zo9"
      },
      "execution_count": 6,
      "outputs": []
    },
    {
      "cell_type": "code",
      "source": [
        "len(corpus)"
      ],
      "metadata": {
        "colab": {
          "base_uri": "https://localhost:8080/"
        },
        "id": "-UDW52n51iV3",
        "outputId": "cbb14342-1f9a-439c-c120-226e6a06d95b"
      },
      "execution_count": 7,
      "outputs": [
        {
          "output_type": "execute_result",
          "data": {
            "text/plain": [
              "80920"
            ]
          },
          "metadata": {},
          "execution_count": 7
        }
      ]
    },
    {
      "cell_type": "code",
      "source": [
        "corpus[-100:]"
      ],
      "metadata": {
        "colab": {
          "base_uri": "https://localhost:8080/",
          "height": 35
        },
        "id": "U18c-LZs1u3s",
        "outputId": "7d7d94c0-1d81-42c5-dba2-9d7e8806483d"
      },
      "execution_count": 10,
      "outputs": [
        {
          "output_type": "execute_result",
          "data": {
            "text/plain": [
              "' ParekhKevan ParekhSenior Vice President,Chief Financial OfficerApple Inc. | Q2 2025 Form 10-Q | 23\\n'"
            ],
            "application/vnd.google.colaboratory.intrinsic+json": {
              "type": "string"
            }
          },
          "metadata": {},
          "execution_count": 10
        }
      ]
    },
    {
      "cell_type": "code",
      "source": [
        "corpus[:100]"
      ],
      "metadata": {
        "id": "InLFdOAS2Z4k",
        "outputId": "d3e5541a-14ec-4530-afe5-a730b2547e3f",
        "colab": {
          "base_uri": "https://localhost:8080/",
          "height": 35
        }
      },
      "execution_count": 8,
      "outputs": [
        {
          "output_type": "execute_result",
          "data": {
            "text/plain": [
              "'\\naapl-20250329false2025Q20000320193--09-27P1YP1YP1YP1Yxbrli:sharesiso4217:USDiso4217:USDxbrli:shares'"
            ],
            "application/vnd.google.colaboratory.intrinsic+json": {
              "type": "string"
            }
          },
          "metadata": {},
          "execution_count": 8
        }
      ]
    },
    {
      "cell_type": "code",
      "source": [
        "corpus[1000:1200]"
      ],
      "metadata": {
        "id": "VNQwEJqUrMhh",
        "outputId": "672762b7-95f9-4d55-fbeb-c03b4aa81094",
        "colab": {
          "base_uri": "https://localhost:8080/",
          "height": 53
        }
      },
      "execution_count": 9,
      "outputs": [
        {
          "output_type": "execute_result",
          "data": {
            "text/plain": [
              "'3-300000320193us-gaap:ServiceMember2024-09-292025-03-290000320193us-gaap:ServiceMember2023-10-012024-03-3000003201932024-12-292025-03-2900003201932023-12-312024-03-3000003201932023-10-012024-03-300000'"
            ],
            "application/vnd.google.colaboratory.intrinsic+json": {
              "type": "string"
            }
          },
          "metadata": {},
          "execution_count": 9
        }
      ]
    },
    {
      "cell_type": "code",
      "source": [],
      "metadata": {
        "id": "KfQyChrFsLKl"
      },
      "execution_count": null,
      "outputs": []
    }
  ]
}