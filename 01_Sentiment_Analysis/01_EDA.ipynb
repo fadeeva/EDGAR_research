{
  "nbformat": 4,
  "nbformat_minor": 0,
  "metadata": {
    "colab": {
      "provenance": [],
      "toc_visible": true,
      "authorship_tag": "ABX9TyMW/cARkOz5RbPoDFf2o8A4"
    },
    "kernelspec": {
      "name": "python3",
      "display_name": "Python 3"
    },
    "language_info": {
      "name": "python"
    }
  },
  "cells": [
    {
      "cell_type": "code",
      "execution_count": 1,
      "metadata": {
        "id": "09tUqn9XxPGz"
      },
      "outputs": [],
      "source": [
        "import pickle as pk\n",
        "import requests\n",
        "\n",
        "import bs4 as bs\n",
        "from bs4 import XMLParsedAsHTMLWarning\n",
        "import warnings\n",
        "\n",
        "warnings.filterwarnings(\"ignore\", category=XMLParsedAsHTMLWarning)"
      ]
    },
    {
      "cell_type": "markdown",
      "source": [
        "## Get Data"
      ],
      "metadata": {
        "id": "y-kfDYrhR0Tl"
      }
    },
    {
      "cell_type": "code",
      "source": [
        "url = 'https://github.com/fadeeva/EDGAR_research/raw/refs/heads/master/data/reports.pickle'\n",
        "response = requests.get(url)\n",
        "reports = pk.loads(response.content)\n",
        "\n",
        "len(reports.keys())"
      ],
      "metadata": {
        "colab": {
          "base_uri": "https://localhost:8080/"
        },
        "id": "DvQQAdb-yDz-",
        "outputId": "d8faec80-1ef9-423a-f11d-5528a2c5ab8c"
      },
      "execution_count": 2,
      "outputs": [
        {
          "output_type": "execute_result",
          "data": {
            "text/plain": [
              "496"
            ]
          },
          "metadata": {},
          "execution_count": 2
        }
      ]
    },
    {
      "cell_type": "markdown",
      "source": [
        "### Get Random Reports"
      ],
      "metadata": {
        "id": "Etjf4NTqqYcw"
      }
    },
    {
      "cell_type": "code",
      "source": [
        "import random\n",
        "\n",
        "def get_rand_reports(tickers:list=[], number_of_reports:int=5)->list:\n",
        "    tickers = random.sample(list(reports.keys()), 5) if not tickers else tickers\n",
        "    data = {ticker: random.sample(reports[ticker], number_of_reports) for ticker in tickers}\n",
        "\n",
        "    return data"
      ],
      "metadata": {
        "id": "Kfa8NCEnOB8Y"
      },
      "execution_count": 14,
      "outputs": []
    },
    {
      "cell_type": "code",
      "source": [
        "get_rand_reports()"
      ],
      "metadata": {
        "colab": {
          "base_uri": "https://localhost:8080/"
        },
        "id": "WZ9vnjqGx45Y",
        "outputId": "49201399-6f00-45ce-d7ca-9d192cc5f269"
      },
      "execution_count": 15,
      "outputs": [
        {
          "output_type": "execute_result",
          "data": {
            "text/plain": [
              "{'ETSY': ['https://www.sec.gov/Archives/edgar/data/1370637/000137063722000081/etsy-20220930.htm',\n",
              "  'https://www.sec.gov/Archives/edgar/data/1370637/000137063723000071/etsy-20230630.htm',\n",
              "  'https://www.sec.gov/Archives/edgar/data/1370637/000137063721000024/etsy-20210331.htm',\n",
              "  'https://www.sec.gov/Archives/edgar/data/1370637/000137063723000049/etsy-20230331.htm',\n",
              "  'https://www.sec.gov/Archives/edgar/data/1370637/000137063724000030/etsy-20240331.htm'],\n",
              " 'FSLR': ['https://www.sec.gov/Archives/edgar/data/1274494/000127449421000033/fslr-20210930.htm',\n",
              "  'https://www.sec.gov/Archives/edgar/data/1274494/000127449420000059/fslr-20200930.htm',\n",
              "  'https://www.sec.gov/Archives/edgar/data/1274494/000127449424000033/fslr-20240630.htm',\n",
              "  'https://www.sec.gov/Archives/edgar/data/1274494/000127449423000010/fslr-20230331.htm',\n",
              "  'https://www.sec.gov/Archives/edgar/data/1274494/000127449422000035/fslr-20220630.htm'],\n",
              " 'TRGP': ['https://www.sec.gov/Archives/edgar/data/1389170/000095017023037748/trgp-20230630.htm',\n",
              "  'https://www.sec.gov/Archives/edgar/data/1389170/000095017024051853/trgp-20240331.htm',\n",
              "  'https://www.sec.gov/Archives/edgar/data/1389170/000095017024089135/trgp-20240630.htm',\n",
              "  'https://www.sec.gov/Archives/edgar/data/1389170/000156459022027962/trgp-10q_20220630.htm',\n",
              "  'https://www.sec.gov/Archives/edgar/data/1389170/000156459021054348/trgp-10q_20210930.htm'],\n",
              " 'DVN': ['https://www.sec.gov/Archives/edgar/data/1090012/000095017024051757/dvn-20240331.htm',\n",
              "  'https://www.sec.gov/Archives/edgar/data/1090012/000095017022013790/dvn-20220630.htm',\n",
              "  'https://www.sec.gov/Archives/edgar/data/1090012/000095017025065278/dvn-20250331.htm',\n",
              "  'https://www.sec.gov/Archives/edgar/data/1090012/000095017024121981/dvn-20240930.htm',\n",
              "  'https://www.sec.gov/Archives/edgar/data/1090012/000095017023019312/dvn-20230331.htm'],\n",
              " 'HOLX': ['https://www.sec.gov/Archives/edgar/data/859737/000085973724000020/holx-20240629.htm',\n",
              "  'https://www.sec.gov/Archives/edgar/data/859737/000085973723000004/holx-20221231.htm',\n",
              "  'https://www.sec.gov/Archives/edgar/data/859737/000085973725000005/holx-20241228.htm',\n",
              "  'https://www.sec.gov/Archives/edgar/data/859737/000085973722000018/holx-20220625.htm',\n",
              "  'https://www.sec.gov/Archives/edgar/data/859737/000085973722000011/holx-20220326.htm']}"
            ]
          },
          "metadata": {},
          "execution_count": 15
        }
      ]
    },
    {
      "cell_type": "markdown",
      "source": [
        "### Get Corpus"
      ],
      "metadata": {
        "id": "T8hrkhSlqjGb"
      }
    },
    {
      "cell_type": "code",
      "source": [
        "def get_report_corpus(url:str)->bs:\n",
        "    headers={'User-Agent':'Dummy Company jane.dow@dummy.com','Accept-Encoding':'gzip, deflate','Host':'www.sec.gov'}\n",
        "    response = requests.get(url, headers=headers, allow_redirects=True)\n",
        "\n",
        "    return bs.BeautifulSoup(response.text, features='lxml')\n"
      ],
      "metadata": {
        "id": "PasMj8O-ydBQ"
      },
      "execution_count": null,
      "outputs": []
    },
    {
      "cell_type": "code",
      "source": [
        "corpus = get_report_corpus('https://www.sec.gov/Archives/edgar/data/320193/000032019325000057/aapl-20250329.htm')"
      ],
      "metadata": {
        "id": "Cn5WBNIMJjOP"
      },
      "execution_count": null,
      "outputs": []
    },
    {
      "cell_type": "code",
      "source": [
        "ticker, date = corpus.find('title').text.split('-')\n",
        "ticker, date"
      ],
      "metadata": {
        "id": "F_qji1Qur9xy",
        "outputId": "223a45ad-fedd-4f60-dfef-5527d89aec5c",
        "colab": {
          "base_uri": "https://localhost:8080/"
        }
      },
      "execution_count": null,
      "outputs": [
        {
          "output_type": "execute_result",
          "data": {
            "text/plain": [
              "('aapl', '20250329')"
            ]
          },
          "metadata": {},
          "execution_count": 6
        }
      ]
    },
    {
      "cell_type": "code",
      "source": [
        "corpus.find(id='f-5').text # Commission File Numbe"
      ],
      "metadata": {
        "id": "VA6WXF2AsYgC",
        "outputId": "0633f492-6b40-4fbd-b664-92ff0d83551c",
        "colab": {
          "base_uri": "https://localhost:8080/",
          "height": 35
        }
      },
      "execution_count": null,
      "outputs": [
        {
          "output_type": "execute_result",
          "data": {
            "text/plain": [
              "'001-36743'"
            ],
            "application/vnd.google.colaboratory.intrinsic+json": {
              "type": "string"
            }
          },
          "metadata": {},
          "execution_count": 7
        }
      ]
    },
    {
      "cell_type": "code",
      "source": [
        "corpus.find(id='f-8').text # I.R.S. Employer Identification No"
      ],
      "metadata": {
        "id": "KfQyChrFsLKl",
        "outputId": "d34b2af8-4a72-405b-a4d5-865e94a32c9b",
        "colab": {
          "base_uri": "https://localhost:8080/",
          "height": 35
        }
      },
      "execution_count": null,
      "outputs": [
        {
          "output_type": "execute_result",
          "data": {
            "text/plain": [
              "'94-2404110'"
            ],
            "application/vnd.google.colaboratory.intrinsic+json": {
              "type": "string"
            }
          },
          "metadata": {},
          "execution_count": 8
        }
      ]
    },
    {
      "cell_type": "markdown",
      "source": [
        "## Consolidated Balance Sheet"
      ],
      "metadata": {
        "id": "TAR5YV53FUEw"
      }
    },
    {
      "cell_type": "markdown",
      "source": [
        "## Management’s Discussion and Analysis of Financial Condition and Results of Operations"
      ],
      "metadata": {
        "id": "Ya45EJyuQ0WH"
      }
    },
    {
      "cell_type": "code",
      "source": [
        "title_vars = [\n",
        "    'ITEM 2. Management’s Discussion and Analysis of Financial Condition and Results of Operations',\n",
        "    'Management’s Discussion and Analysis of Financial Condition and Results of Operations',\n",
        "]"
      ],
      "metadata": {
        "id": "yOP6SQ_gN7uh"
      },
      "execution_count": null,
      "outputs": []
    },
    {
      "cell_type": "code",
      "source": [
        "# i056866be11a54295b8c21e0877b67331_67"
      ],
      "metadata": {
        "id": "EC6X_-6JOq7h"
      },
      "execution_count": null,
      "outputs": []
    },
    {
      "cell_type": "code",
      "source": [
        "def get_ids(corpus):\n",
        "    mdaf = corpus.find_all('span')\n",
        "    tag = [tag for tag in mdaf if tag.string in title_vars][0]\n",
        "\n",
        "    return tag.find('a').get('href')[1:], tag.parent.parent.parent.next_sibling.find('a').get('href')[1:]\n"
      ],
      "metadata": {
        "id": "9_FByKWaMWOt"
      },
      "execution_count": null,
      "outputs": []
    },
    {
      "cell_type": "code",
      "source": [
        "get_ids(corpus)"
      ],
      "metadata": {
        "id": "oMKz3B-PSlrO",
        "outputId": "7a6ff20f-5a5c-4667-da4c-99da819fb0b5",
        "colab": {
          "base_uri": "https://localhost:8080/"
        }
      },
      "execution_count": null,
      "outputs": [
        {
          "output_type": "execute_result",
          "data": {
            "text/plain": [
              "('i056866be11a54295b8c21e0877b67331_67',\n",
              " 'i056866be11a54295b8c21e0877b67331_145')"
            ]
          },
          "metadata": {},
          "execution_count": 62
        }
      ]
    },
    {
      "cell_type": "code",
      "source": [
        "reports['LHX'][:3]"
      ],
      "metadata": {
        "id": "82LcpyMIYQ6C",
        "outputId": "c4401544-2001-4994-824f-3a4f01d25f01",
        "colab": {
          "base_uri": "https://localhost:8080/"
        }
      },
      "execution_count": null,
      "outputs": [
        {
          "output_type": "execute_result",
          "data": {
            "text/plain": [
              "['https://www.sec.gov/Archives/edgar/data/202058/000020205825000101/hrs-20250328.htm',\n",
              " 'https://www.sec.gov/Archives/edgar/data/202058/000020205824000168/hrs-20240927.htm',\n",
              " 'https://www.sec.gov/Archives/edgar/data/202058/000020205824000140/hrs-20240628.htm']"
            ]
          },
          "metadata": {},
          "execution_count": 38
        }
      ]
    },
    {
      "cell_type": "code",
      "source": [
        "corpus_ = get_report_corpus('https://www.sec.gov/Archives/edgar/data/202058/000020205824000140/hrs-20240627.htm')"
      ],
      "metadata": {
        "id": "ukr-8sOBZqg0"
      },
      "execution_count": null,
      "outputs": []
    },
    {
      "cell_type": "code",
      "source": [
        "get_ids(corpus_)"
      ],
      "metadata": {
        "id": "QSaEjjQ2aJe9",
        "outputId": "c16d7404-4f26-4092-a358-753cf274f64d",
        "colab": {
          "base_uri": "https://localhost:8080/",
          "height": 263
        }
      },
      "execution_count": null,
      "outputs": [
        {
          "output_type": "error",
          "ename": "IndexError",
          "evalue": "list index out of range",
          "traceback": [
            "\u001b[0;31m---------------------------------------------------------------------------\u001b[0m",
            "\u001b[0;31mIndexError\u001b[0m                                Traceback (most recent call last)",
            "\u001b[0;32m/tmp/ipython-input-2733074593.py\u001b[0m in \u001b[0;36m<cell line: 0>\u001b[0;34m()\u001b[0m\n\u001b[0;32m----> 1\u001b[0;31m \u001b[0mget_ids\u001b[0m\u001b[0;34m(\u001b[0m\u001b[0mcorpus_\u001b[0m\u001b[0;34m)\u001b[0m\u001b[0;34m\u001b[0m\u001b[0;34m\u001b[0m\u001b[0m\n\u001b[0m",
            "\u001b[0;32m/tmp/ipython-input-3665282271.py\u001b[0m in \u001b[0;36mget_ids\u001b[0;34m(corpus)\u001b[0m\n\u001b[1;32m      1\u001b[0m \u001b[0;32mdef\u001b[0m \u001b[0mget_ids\u001b[0m\u001b[0;34m(\u001b[0m\u001b[0mcorpus\u001b[0m\u001b[0;34m)\u001b[0m\u001b[0;34m:\u001b[0m\u001b[0;34m\u001b[0m\u001b[0;34m\u001b[0m\u001b[0m\n\u001b[1;32m      2\u001b[0m     \u001b[0mmdaf\u001b[0m \u001b[0;34m=\u001b[0m \u001b[0mcorpus\u001b[0m\u001b[0;34m.\u001b[0m\u001b[0mfind_all\u001b[0m\u001b[0;34m(\u001b[0m\u001b[0;34m'span'\u001b[0m\u001b[0;34m)\u001b[0m\u001b[0;34m\u001b[0m\u001b[0;34m\u001b[0m\u001b[0m\n\u001b[0;32m----> 3\u001b[0;31m     \u001b[0mtag\u001b[0m \u001b[0;34m=\u001b[0m \u001b[0;34m[\u001b[0m\u001b[0mtag\u001b[0m \u001b[0;32mfor\u001b[0m \u001b[0mtag\u001b[0m \u001b[0;32min\u001b[0m \u001b[0mmdaf\u001b[0m \u001b[0;32mif\u001b[0m \u001b[0mtag\u001b[0m\u001b[0;34m.\u001b[0m\u001b[0mstring\u001b[0m \u001b[0;32min\u001b[0m \u001b[0mtitle_vars\u001b[0m\u001b[0;34m]\u001b[0m\u001b[0;34m[\u001b[0m\u001b[0;36m0\u001b[0m\u001b[0;34m]\u001b[0m\u001b[0;34m\u001b[0m\u001b[0;34m\u001b[0m\u001b[0m\n\u001b[0m\u001b[1;32m      4\u001b[0m \u001b[0;34m\u001b[0m\u001b[0m\n\u001b[1;32m      5\u001b[0m     \u001b[0;32mreturn\u001b[0m \u001b[0mtag\u001b[0m\u001b[0;34m.\u001b[0m\u001b[0mfind\u001b[0m\u001b[0;34m(\u001b[0m\u001b[0;34m'a'\u001b[0m\u001b[0;34m)\u001b[0m\u001b[0;34m.\u001b[0m\u001b[0mget\u001b[0m\u001b[0;34m(\u001b[0m\u001b[0;34m'href'\u001b[0m\u001b[0;34m)\u001b[0m\u001b[0;34m[\u001b[0m\u001b[0;36m1\u001b[0m\u001b[0;34m:\u001b[0m\u001b[0;34m]\u001b[0m\u001b[0;34m,\u001b[0m \u001b[0mtag\u001b[0m\u001b[0;34m.\u001b[0m\u001b[0mparent\u001b[0m\u001b[0;34m.\u001b[0m\u001b[0mparent\u001b[0m\u001b[0;34m.\u001b[0m\u001b[0mparent\u001b[0m\u001b[0;34m.\u001b[0m\u001b[0mnext_sibling\u001b[0m\u001b[0;34m.\u001b[0m\u001b[0mfind\u001b[0m\u001b[0;34m(\u001b[0m\u001b[0;34m'a'\u001b[0m\u001b[0;34m)\u001b[0m\u001b[0;34m.\u001b[0m\u001b[0mget\u001b[0m\u001b[0;34m(\u001b[0m\u001b[0;34m'href'\u001b[0m\u001b[0;34m)\u001b[0m\u001b[0;34m[\u001b[0m\u001b[0;36m1\u001b[0m\u001b[0;34m:\u001b[0m\u001b[0;34m]\u001b[0m\u001b[0;34m\u001b[0m\u001b[0;34m\u001b[0m\u001b[0m\n",
            "\u001b[0;31mIndexError\u001b[0m: list index out of range"
          ]
        }
      ]
    },
    {
      "cell_type": "code",
      "source": [
        "mdaf = corpus.find_all('span')\n",
        "\n",
        "for tag in mdaf:\n",
        "    if tag.text.upper()=='ITEM 2.': #\n",
        "        print(tag)\n",
        "        break\n"
      ],
      "metadata": {
        "id": "VeCEGvBdS7Yu",
        "outputId": "af31a0bd-799c-4789-f202-92ee119dfe1e",
        "colab": {
          "base_uri": "https://localhost:8080/"
        }
      },
      "execution_count": null,
      "outputs": [
        {
          "output_type": "stream",
          "name": "stdout",
          "text": [
            "<span style=\"color:#0000ff;font-family:'Helvetica',sans-serif;font-size:9pt;font-weight:400;line-height:100%;text-decoration:underline\"><a href=\"#i056866be11a54295b8c21e0877b67331_67\" style=\"color:#0000ff;font-family:'Helvetica',sans-serif;font-size:9pt;font-weight:400;line-height:100%;text-decoration:underline\">Item 2.</a></span>\n"
          ]
        }
      ]
    },
    {
      "cell_type": "code",
      "source": [],
      "metadata": {
        "id": "K8_62ki9aMTe"
      },
      "execution_count": null,
      "outputs": []
    }
  ]
}