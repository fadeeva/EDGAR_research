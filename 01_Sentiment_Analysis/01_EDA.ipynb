{
  "nbformat": 4,
  "nbformat_minor": 0,
  "metadata": {
    "colab": {
      "provenance": [],
      "authorship_tag": "ABX9TyP9gvicQy3lfYT4YvqXCLFb"
    },
    "kernelspec": {
      "name": "python3",
      "display_name": "Python 3"
    },
    "language_info": {
      "name": "python"
    }
  },
  "cells": [
    {
      "cell_type": "code",
      "execution_count": 15,
      "metadata": {
        "id": "09tUqn9XxPGz"
      },
      "outputs": [],
      "source": [
        "import pickle as pk\n",
        "import bs4 as bs\n",
        "import requests"
      ]
    },
    {
      "cell_type": "code",
      "source": [
        "reports = 'https://github.com/fadeeva/EDGAR_research/raw/refs/heads/master/data/reports.pickle'\n",
        "requests.get(reports, \"reports.pickle\")"
      ],
      "metadata": {
        "colab": {
          "base_uri": "https://localhost:8080/"
        },
        "id": "DvQQAdb-yDz-",
        "outputId": "c1ead16a-b74d-45a0-ab03-7a4783ed3212"
      },
      "execution_count": 11,
      "outputs": [
        {
          "output_type": "execute_result",
          "data": {
            "text/plain": [
              "<Response [200]>"
            ]
          },
          "metadata": {},
          "execution_count": 11
        }
      ]
    },
    {
      "cell_type": "code",
      "source": [
        "with open('reports.pickle', 'rb') as f:\n",
        "    reports = pk.load(f)\n",
        "\n",
        "len(reports.keys())"
      ],
      "metadata": {
        "colab": {
          "base_uri": "https://localhost:8080/"
        },
        "id": "a8jANmlOxjuS",
        "outputId": "6ee2ab2e-8f1d-4052-ebac-0e50d7665355"
      },
      "execution_count": 12,
      "outputs": [
        {
          "output_type": "execute_result",
          "data": {
            "text/plain": [
              "496"
            ]
          },
          "metadata": {},
          "execution_count": 12
        }
      ]
    },
    {
      "cell_type": "code",
      "source": [
        "reports['AAPL']"
      ],
      "metadata": {
        "colab": {
          "base_uri": "https://localhost:8080/"
        },
        "id": "WZ9vnjqGx45Y",
        "outputId": "5a074748-4657-417f-ca75-9b38a2adc876"
      },
      "execution_count": 13,
      "outputs": [
        {
          "output_type": "execute_result",
          "data": {
            "text/plain": [
              "['https://www.sec.gov/Archives/edgar/data/320193/000032019325000057/aapl-20250329.htm',\n",
              " 'https://www.sec.gov/Archives/edgar/data/320193/000032019325000008/aapl-20241228.htm',\n",
              " 'https://www.sec.gov/Archives/edgar/data/320193/000032019324000081/aapl-20240629.htm',\n",
              " 'https://www.sec.gov/Archives/edgar/data/320193/000032019324000069/aapl-20240330.htm',\n",
              " 'https://www.sec.gov/Archives/edgar/data/320193/000032019324000006/aapl-20231230.htm',\n",
              " 'https://www.sec.gov/Archives/edgar/data/320193/000032019323000077/aapl-20230701.htm',\n",
              " 'https://www.sec.gov/Archives/edgar/data/320193/000032019323000064/aapl-20230401.htm',\n",
              " 'https://www.sec.gov/Archives/edgar/data/320193/000032019323000006/aapl-20221231.htm',\n",
              " 'https://www.sec.gov/Archives/edgar/data/320193/000032019322000070/aapl-20220625.htm',\n",
              " 'https://www.sec.gov/Archives/edgar/data/320193/000032019322000059/aapl-20220326.htm',\n",
              " 'https://www.sec.gov/Archives/edgar/data/320193/000032019322000007/aapl-20211225.htm',\n",
              " 'https://www.sec.gov/Archives/edgar/data/320193/000032019321000065/aapl-20210626.htm',\n",
              " 'https://www.sec.gov/Archives/edgar/data/320193/000032019321000056/aapl-20210327.htm',\n",
              " 'https://www.sec.gov/Archives/edgar/data/320193/000032019321000010/aapl-20201226.htm',\n",
              " 'https://www.sec.gov/Archives/edgar/data/320193/000032019320000062/aapl-20200627.htm']"
            ]
          },
          "metadata": {},
          "execution_count": 13
        }
      ]
    },
    {
      "cell_type": "code",
      "source": [
        "headers={'User-Agent':'Dummy Company jane.dow@dummy.com','Accept-Encoding':'gzip, deflate','Host':'www.sec.gov'}\n",
        "\n",
        "response = requests.get('https://www.sec.gov/Archives/edgar/data/320193/000032019325000057/aapl-20250329.htm',\n",
        "                        headers=headers, allow_redirects=True)\n",
        "\n",
        "soup = bs.BeautifulSoup(response.text, features='lxml')"
      ],
      "metadata": {
        "colab": {
          "base_uri": "https://localhost:8080/"
        },
        "id": "PasMj8O-ydBQ",
        "outputId": "776c2496-55b0-45ea-a495-b2013216b70a"
      },
      "execution_count": 44,
      "outputs": [
        {
          "output_type": "stream",
          "name": "stderr",
          "text": [
            "/tmp/ipython-input-44-2022039756.py:6: XMLParsedAsHTMLWarning: It looks like you're using an HTML parser to parse an XML document.\n",
            "\n",
            "Assuming this really is an XML document, what you're doing might work, but you should know that using an XML parser will be more reliable. To parse this document as XML, make sure you have the Python package 'lxml' installed, and pass the keyword argument `features=\"xml\"` into the BeautifulSoup constructor.\n",
            "\n",
            "If you want or need to use an HTML parser on this document, you can make this warning go away by filtering it. To do that, run this code before calling the BeautifulSoup constructor:\n",
            "\n",
            "    from bs4 import XMLParsedAsHTMLWarning\n",
            "    import warnings\n",
            "\n",
            "    warnings.filterwarnings(\"ignore\", category=XMLParsedAsHTMLWarning)\n",
            "\n",
            "  soup = bs.BeautifulSoup(response.text, features='lxml')\n"
          ]
        }
      ]
    },
    {
      "cell_type": "code",
      "source": [
        "len(soup.text)"
      ],
      "metadata": {
        "colab": {
          "base_uri": "https://localhost:8080/"
        },
        "id": "qDC3RxDO1WvQ",
        "outputId": "3120e4e5-a5fc-4a52-ef55-c4e9aa0a5104"
      },
      "execution_count": 45,
      "outputs": [
        {
          "output_type": "execute_result",
          "data": {
            "text/plain": [
              "80920"
            ]
          },
          "metadata": {},
          "execution_count": 45
        }
      ]
    },
    {
      "cell_type": "code",
      "source": [
        "corpus = soup.text.replace('\\n', ' ')"
      ],
      "metadata": {
        "id": "4EpuBSl61Zo9"
      },
      "execution_count": 46,
      "outputs": []
    },
    {
      "cell_type": "code",
      "source": [
        "len(corpus)"
      ],
      "metadata": {
        "colab": {
          "base_uri": "https://localhost:8080/"
        },
        "id": "-UDW52n51iV3",
        "outputId": "01b72f93-5cf1-41b3-d6ed-99fcddb2c04e"
      },
      "execution_count": 47,
      "outputs": [
        {
          "output_type": "execute_result",
          "data": {
            "text/plain": [
              "80918"
            ]
          },
          "metadata": {},
          "execution_count": 47
        }
      ]
    },
    {
      "cell_type": "code",
      "source": [
        "corpus[-100:]"
      ],
      "metadata": {
        "colab": {
          "base_uri": "https://localhost:8080/",
          "height": 35
        },
        "id": "U18c-LZs1u3s",
        "outputId": "a4df0fb0-5904-4f1f-c93f-0a6196f056d5"
      },
      "execution_count": 50,
      "outputs": [
        {
          "output_type": "execute_result",
          "data": {
            "text/plain": [
              "'n ParekhKevan ParekhSenior Vice President,Chief Financial OfficerApple Inc. | Q2 2025 Form 10-Q | 23'"
            ],
            "application/vnd.google.colaboratory.intrinsic+json": {
              "type": "string"
            }
          },
          "metadata": {},
          "execution_count": 50
        }
      ]
    },
    {
      "cell_type": "code",
      "source": [],
      "metadata": {
        "id": "InLFdOAS2Z4k"
      },
      "execution_count": null,
      "outputs": []
    }
  ]
}