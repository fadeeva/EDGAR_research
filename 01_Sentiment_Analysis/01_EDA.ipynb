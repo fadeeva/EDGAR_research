{
  "nbformat": 4,
  "nbformat_minor": 0,
  "metadata": {
    "colab": {
      "provenance": [],
      "toc_visible": true,
      "authorship_tag": "ABX9TyOpqjqx/TYEcqiVMl/5zcsw"
    },
    "kernelspec": {
      "name": "python3",
      "display_name": "Python 3"
    },
    "language_info": {
      "name": "python"
    }
  },
  "cells": [
    {
      "cell_type": "code",
      "execution_count": 1,
      "metadata": {
        "id": "09tUqn9XxPGz"
      },
      "outputs": [],
      "source": [
        "import pickle as pk\n",
        "import requests\n",
        "\n",
        "import bs4 as bs\n",
        "from bs4 import XMLParsedAsHTMLWarning\n",
        "import warnings\n",
        "\n",
        "warnings.filterwarnings('ignore', category=XMLParsedAsHTMLWarning)"
      ]
    },
    {
      "cell_type": "markdown",
      "source": [
        "## Get Data"
      ],
      "metadata": {
        "id": "y-kfDYrhR0Tl"
      }
    },
    {
      "cell_type": "code",
      "source": [
        "url = 'https://github.com/fadeeva/EDGAR_research/raw/refs/heads/master/data/reports.pickle'\n",
        "response = requests.get(url)\n",
        "reports = pk.loads(response.content)\n",
        "\n",
        "len(reports.keys())"
      ],
      "metadata": {
        "colab": {
          "base_uri": "https://localhost:8080/"
        },
        "id": "DvQQAdb-yDz-",
        "outputId": "ca0eee68-5a1b-42b2-b64b-2583b15607a1"
      },
      "execution_count": 2,
      "outputs": [
        {
          "output_type": "execute_result",
          "data": {
            "text/plain": [
              "496"
            ]
          },
          "metadata": {},
          "execution_count": 2
        }
      ]
    },
    {
      "cell_type": "markdown",
      "source": [
        "### Get Random Reports"
      ],
      "metadata": {
        "id": "Etjf4NTqqYcw"
      }
    },
    {
      "cell_type": "code",
      "source": [
        "import random\n",
        "\n",
        "def get_rand_reports(tickers:list=[], number_of_reports:int=5)->dict:\n",
        "    tickers = random.sample(list(reports.keys()), 5) if not tickers else tickers\n",
        "    data = {ticker: random.sample(reports[ticker], number_of_reports) for ticker in tickers}\n",
        "\n",
        "    return data"
      ],
      "metadata": {
        "id": "Kfa8NCEnOB8Y"
      },
      "execution_count": 4,
      "outputs": []
    },
    {
      "cell_type": "code",
      "source": [
        "rand_reports = get_rand_reports()\n",
        "rand_reports"
      ],
      "metadata": {
        "colab": {
          "base_uri": "https://localhost:8080/"
        },
        "id": "WZ9vnjqGx45Y",
        "outputId": "4b8c04c5-3f22-4804-820a-b8939e15075f"
      },
      "execution_count": 6,
      "outputs": [
        {
          "output_type": "execute_result",
          "data": {
            "text/plain": [
              "{'QCOM': ['https://www.sec.gov/Archives/edgar/data/804328/000080432824000017/qcom-20231224.htm',\n",
              "  'https://www.sec.gov/Archives/edgar/data/804328/000172894922000012/qcom-20211226.htm',\n",
              "  'https://www.sec.gov/Archives/edgar/data/804328/000080432823000006/qcom-20221225.htm',\n",
              "  'https://www.sec.gov/Archives/edgar/data/804328/000172894921000066/qcom-20210627.htm',\n",
              "  'https://www.sec.gov/Archives/edgar/data/804328/000080432825000031/qcom-20250330.htm'],\n",
              " 'KKR': ['https://www.sec.gov/Archives/edgar/data/1843212/000184321222000012/kahc-20220630.htm',\n",
              "  'https://www.sec.gov/Archives/edgar/data/2012839/000201283924000009/ebdc-20240630.htm',\n",
              "  'https://www.sec.gov/Archives/edgar/data/1631596/000163159620000032/kref-20200930.htm',\n",
              "  'https://www.sec.gov/Archives/edgar/data/1404912/000140491221000028/kkr-20210630.htm',\n",
              "  'https://www.sec.gov/Archives/edgar/data/1631596/000163159623000033/kref-20230630.htm'],\n",
              " 'CINF': ['https://www.sec.gov/Archives/edgar/data/20286/000002028621000033/cinf-20210331.htm',\n",
              "  'https://www.sec.gov/Archives/edgar/data/20286/000002028624000030/cinf-20240331.htm',\n",
              "  'https://www.sec.gov/Archives/edgar/data/20286/000002028620000060/cinf-20200630.htm',\n",
              "  'https://www.sec.gov/Archives/edgar/data/20286/000002028622000048/cinf-20220630.htm',\n",
              "  'https://www.sec.gov/Archives/edgar/data/20286/000002028624000063/cinf-20240930.htm'],\n",
              " 'RMD': ['https://www.sec.gov/Archives/edgar/data/943819/000094381923000003/rmd-20221231.htm',\n",
              "  'https://www.sec.gov/Archives/edgar/data/943819/000094381923000008/rmd-20230331.htm',\n",
              "  'https://www.sec.gov/Archives/edgar/data/943819/000094381921000009/rmd-20210331x10q.htm',\n",
              "  'https://www.sec.gov/Archives/edgar/data/943819/000094381924000003/rmd-20231231.htm',\n",
              "  'https://www.sec.gov/Archives/edgar/data/943819/000094381921000031/rmd-20210930x10q.htm'],\n",
              " 'NRG': ['https://www.sec.gov/Archives/edgar/data/1013871/000101387123000022/nrg-20230930.htm',\n",
              "  'https://www.sec.gov/Archives/edgar/data/1013871/000101387121000016/nrg-20210630.htm',\n",
              "  'https://www.sec.gov/Archives/edgar/data/1013871/000101387121000010/nrg-20210331.htm',\n",
              "  'https://www.sec.gov/Archives/edgar/data/1013871/000101387121000022/nrg-20210930.htm',\n",
              "  'https://www.sec.gov/Archives/edgar/data/1013871/000101387123000012/nrg-20230331.htm']}"
            ]
          },
          "metadata": {},
          "execution_count": 6
        }
      ]
    },
    {
      "cell_type": "code",
      "source": [
        "aapl_reports = get_rand_reports(['AAPL'], 10)\n",
        "aapl_reports"
      ],
      "metadata": {
        "id": "QHvCGESZ_TIc",
        "outputId": "0679c6cb-a891-4d97-be39-2135acbf3048",
        "colab": {
          "base_uri": "https://localhost:8080/"
        }
      },
      "execution_count": 7,
      "outputs": [
        {
          "output_type": "execute_result",
          "data": {
            "text/plain": [
              "{'AAPL': ['https://www.sec.gov/Archives/edgar/data/320193/000032019322000059/aapl-20220326.htm',\n",
              "  'https://www.sec.gov/Archives/edgar/data/320193/000032019325000008/aapl-20241228.htm',\n",
              "  'https://www.sec.gov/Archives/edgar/data/320193/000032019325000057/aapl-20250329.htm',\n",
              "  'https://www.sec.gov/Archives/edgar/data/320193/000032019324000006/aapl-20231230.htm',\n",
              "  'https://www.sec.gov/Archives/edgar/data/320193/000032019322000007/aapl-20211225.htm',\n",
              "  'https://www.sec.gov/Archives/edgar/data/320193/000032019323000064/aapl-20230401.htm',\n",
              "  'https://www.sec.gov/Archives/edgar/data/320193/000032019321000065/aapl-20210626.htm',\n",
              "  'https://www.sec.gov/Archives/edgar/data/320193/000032019321000010/aapl-20201226.htm',\n",
              "  'https://www.sec.gov/Archives/edgar/data/320193/000032019323000077/aapl-20230701.htm',\n",
              "  'https://www.sec.gov/Archives/edgar/data/320193/000032019323000006/aapl-20221231.htm']}"
            ]
          },
          "metadata": {},
          "execution_count": 7
        }
      ]
    },
    {
      "cell_type": "markdown",
      "source": [
        "### Get Corpus"
      ],
      "metadata": {
        "id": "T8hrkhSlqjGb"
      }
    },
    {
      "cell_type": "code",
      "source": [
        "def get_report_corpus(url:str)->bs:\n",
        "    headers={\n",
        "        'User-Agent':'Dummy Company jane.dow@dummy.com',\n",
        "        'Accept-Encoding':'gzip, deflate',\n",
        "        'Host':'www.sec.gov'\n",
        "    }\n",
        "    response = requests.get(url, headers=headers, allow_redirects=True)\n",
        "\n",
        "    return bs.BeautifulSoup(response.text, features='lxml')\n"
      ],
      "metadata": {
        "id": "PasMj8O-ydBQ"
      },
      "execution_count": null,
      "outputs": []
    },
    {
      "cell_type": "code",
      "source": [
        "corpus = get_report_corpus('https://www.sec.gov/Archives/edgar/data/320193/000032019325000057/aapl-20250329.htm')"
      ],
      "metadata": {
        "id": "Cn5WBNIMJjOP"
      },
      "execution_count": null,
      "outputs": []
    },
    {
      "cell_type": "code",
      "source": [
        "ticker, date = corpus.find('title').text.split('-')\n",
        "ticker, date"
      ],
      "metadata": {
        "id": "F_qji1Qur9xy",
        "outputId": "223a45ad-fedd-4f60-dfef-5527d89aec5c",
        "colab": {
          "base_uri": "https://localhost:8080/"
        }
      },
      "execution_count": null,
      "outputs": [
        {
          "output_type": "execute_result",
          "data": {
            "text/plain": [
              "('aapl', '20250329')"
            ]
          },
          "metadata": {},
          "execution_count": 6
        }
      ]
    },
    {
      "cell_type": "code",
      "source": [
        "corpus.find(id='f-5').text # Commission File Numbe"
      ],
      "metadata": {
        "id": "VA6WXF2AsYgC",
        "outputId": "0633f492-6b40-4fbd-b664-92ff0d83551c",
        "colab": {
          "base_uri": "https://localhost:8080/",
          "height": 35
        }
      },
      "execution_count": null,
      "outputs": [
        {
          "output_type": "execute_result",
          "data": {
            "text/plain": [
              "'001-36743'"
            ],
            "application/vnd.google.colaboratory.intrinsic+json": {
              "type": "string"
            }
          },
          "metadata": {},
          "execution_count": 7
        }
      ]
    },
    {
      "cell_type": "code",
      "source": [
        "corpus.find(id='f-8').text # I.R.S. Employer Identification No"
      ],
      "metadata": {
        "id": "KfQyChrFsLKl",
        "outputId": "d34b2af8-4a72-405b-a4d5-865e94a32c9b",
        "colab": {
          "base_uri": "https://localhost:8080/",
          "height": 35
        }
      },
      "execution_count": null,
      "outputs": [
        {
          "output_type": "execute_result",
          "data": {
            "text/plain": [
              "'94-2404110'"
            ],
            "application/vnd.google.colaboratory.intrinsic+json": {
              "type": "string"
            }
          },
          "metadata": {},
          "execution_count": 8
        }
      ]
    },
    {
      "cell_type": "markdown",
      "source": [
        "## Consolidated Balance Sheet"
      ],
      "metadata": {
        "id": "TAR5YV53FUEw"
      }
    },
    {
      "cell_type": "markdown",
      "source": [
        "## Management’s Discussion and Analysis of Financial Condition and Results of Operations"
      ],
      "metadata": {
        "id": "Ya45EJyuQ0WH"
      }
    },
    {
      "cell_type": "code",
      "source": [
        "title_vars = [\n",
        "    'ITEM 2. Management’s Discussion and Analysis of Financial Condition and Results of Operations',\n",
        "    'Management’s Discussion and Analysis of Financial Condition and Results of Operations',\n",
        "]"
      ],
      "metadata": {
        "id": "yOP6SQ_gN7uh"
      },
      "execution_count": null,
      "outputs": []
    },
    {
      "cell_type": "code",
      "source": [
        "# i056866be11a54295b8c21e0877b67331_67"
      ],
      "metadata": {
        "id": "EC6X_-6JOq7h"
      },
      "execution_count": null,
      "outputs": []
    },
    {
      "cell_type": "code",
      "source": [
        "def get_ids(corpus):\n",
        "    mdaf = corpus.find_all('span')\n",
        "    tag = [tag for tag in mdaf if tag.string in title_vars][0]\n",
        "\n",
        "    return tag.find('a').get('href')[1:], tag.parent.parent.parent.next_sibling.find('a').get('href')[1:]\n"
      ],
      "metadata": {
        "id": "9_FByKWaMWOt"
      },
      "execution_count": null,
      "outputs": []
    },
    {
      "cell_type": "code",
      "source": [
        "get_ids(corpus)"
      ],
      "metadata": {
        "id": "oMKz3B-PSlrO",
        "outputId": "7a6ff20f-5a5c-4667-da4c-99da819fb0b5",
        "colab": {
          "base_uri": "https://localhost:8080/"
        }
      },
      "execution_count": null,
      "outputs": [
        {
          "output_type": "execute_result",
          "data": {
            "text/plain": [
              "('i056866be11a54295b8c21e0877b67331_67',\n",
              " 'i056866be11a54295b8c21e0877b67331_145')"
            ]
          },
          "metadata": {},
          "execution_count": 62
        }
      ]
    },
    {
      "cell_type": "code",
      "source": [
        "reports['LHX'][:3]"
      ],
      "metadata": {
        "id": "82LcpyMIYQ6C",
        "outputId": "c4401544-2001-4994-824f-3a4f01d25f01",
        "colab": {
          "base_uri": "https://localhost:8080/"
        }
      },
      "execution_count": null,
      "outputs": [
        {
          "output_type": "execute_result",
          "data": {
            "text/plain": [
              "['https://www.sec.gov/Archives/edgar/data/202058/000020205825000101/hrs-20250328.htm',\n",
              " 'https://www.sec.gov/Archives/edgar/data/202058/000020205824000168/hrs-20240927.htm',\n",
              " 'https://www.sec.gov/Archives/edgar/data/202058/000020205824000140/hrs-20240628.htm']"
            ]
          },
          "metadata": {},
          "execution_count": 38
        }
      ]
    },
    {
      "cell_type": "code",
      "source": [
        "corpus_ = get_report_corpus('https://www.sec.gov/Archives/edgar/data/202058/000020205824000140/hrs-20240627.htm')"
      ],
      "metadata": {
        "id": "ukr-8sOBZqg0"
      },
      "execution_count": null,
      "outputs": []
    },
    {
      "cell_type": "code",
      "source": [
        "get_ids(corpus_)"
      ],
      "metadata": {
        "id": "QSaEjjQ2aJe9",
        "outputId": "c16d7404-4f26-4092-a358-753cf274f64d",
        "colab": {
          "base_uri": "https://localhost:8080/",
          "height": 263
        }
      },
      "execution_count": null,
      "outputs": [
        {
          "output_type": "error",
          "ename": "IndexError",
          "evalue": "list index out of range",
          "traceback": [
            "\u001b[0;31m---------------------------------------------------------------------------\u001b[0m",
            "\u001b[0;31mIndexError\u001b[0m                                Traceback (most recent call last)",
            "\u001b[0;32m/tmp/ipython-input-2733074593.py\u001b[0m in \u001b[0;36m<cell line: 0>\u001b[0;34m()\u001b[0m\n\u001b[0;32m----> 1\u001b[0;31m \u001b[0mget_ids\u001b[0m\u001b[0;34m(\u001b[0m\u001b[0mcorpus_\u001b[0m\u001b[0;34m)\u001b[0m\u001b[0;34m\u001b[0m\u001b[0;34m\u001b[0m\u001b[0m\n\u001b[0m",
            "\u001b[0;32m/tmp/ipython-input-3665282271.py\u001b[0m in \u001b[0;36mget_ids\u001b[0;34m(corpus)\u001b[0m\n\u001b[1;32m      1\u001b[0m \u001b[0;32mdef\u001b[0m \u001b[0mget_ids\u001b[0m\u001b[0;34m(\u001b[0m\u001b[0mcorpus\u001b[0m\u001b[0;34m)\u001b[0m\u001b[0;34m:\u001b[0m\u001b[0;34m\u001b[0m\u001b[0;34m\u001b[0m\u001b[0m\n\u001b[1;32m      2\u001b[0m     \u001b[0mmdaf\u001b[0m \u001b[0;34m=\u001b[0m \u001b[0mcorpus\u001b[0m\u001b[0;34m.\u001b[0m\u001b[0mfind_all\u001b[0m\u001b[0;34m(\u001b[0m\u001b[0;34m'span'\u001b[0m\u001b[0;34m)\u001b[0m\u001b[0;34m\u001b[0m\u001b[0;34m\u001b[0m\u001b[0m\n\u001b[0;32m----> 3\u001b[0;31m     \u001b[0mtag\u001b[0m \u001b[0;34m=\u001b[0m \u001b[0;34m[\u001b[0m\u001b[0mtag\u001b[0m \u001b[0;32mfor\u001b[0m \u001b[0mtag\u001b[0m \u001b[0;32min\u001b[0m \u001b[0mmdaf\u001b[0m \u001b[0;32mif\u001b[0m \u001b[0mtag\u001b[0m\u001b[0;34m.\u001b[0m\u001b[0mstring\u001b[0m \u001b[0;32min\u001b[0m \u001b[0mtitle_vars\u001b[0m\u001b[0;34m]\u001b[0m\u001b[0;34m[\u001b[0m\u001b[0;36m0\u001b[0m\u001b[0;34m]\u001b[0m\u001b[0;34m\u001b[0m\u001b[0;34m\u001b[0m\u001b[0m\n\u001b[0m\u001b[1;32m      4\u001b[0m \u001b[0;34m\u001b[0m\u001b[0m\n\u001b[1;32m      5\u001b[0m     \u001b[0;32mreturn\u001b[0m \u001b[0mtag\u001b[0m\u001b[0;34m.\u001b[0m\u001b[0mfind\u001b[0m\u001b[0;34m(\u001b[0m\u001b[0;34m'a'\u001b[0m\u001b[0;34m)\u001b[0m\u001b[0;34m.\u001b[0m\u001b[0mget\u001b[0m\u001b[0;34m(\u001b[0m\u001b[0;34m'href'\u001b[0m\u001b[0;34m)\u001b[0m\u001b[0;34m[\u001b[0m\u001b[0;36m1\u001b[0m\u001b[0;34m:\u001b[0m\u001b[0;34m]\u001b[0m\u001b[0;34m,\u001b[0m \u001b[0mtag\u001b[0m\u001b[0;34m.\u001b[0m\u001b[0mparent\u001b[0m\u001b[0;34m.\u001b[0m\u001b[0mparent\u001b[0m\u001b[0;34m.\u001b[0m\u001b[0mparent\u001b[0m\u001b[0;34m.\u001b[0m\u001b[0mnext_sibling\u001b[0m\u001b[0;34m.\u001b[0m\u001b[0mfind\u001b[0m\u001b[0;34m(\u001b[0m\u001b[0;34m'a'\u001b[0m\u001b[0;34m)\u001b[0m\u001b[0;34m.\u001b[0m\u001b[0mget\u001b[0m\u001b[0;34m(\u001b[0m\u001b[0;34m'href'\u001b[0m\u001b[0;34m)\u001b[0m\u001b[0;34m[\u001b[0m\u001b[0;36m1\u001b[0m\u001b[0;34m:\u001b[0m\u001b[0;34m]\u001b[0m\u001b[0;34m\u001b[0m\u001b[0;34m\u001b[0m\u001b[0m\n",
            "\u001b[0;31mIndexError\u001b[0m: list index out of range"
          ]
        }
      ]
    },
    {
      "cell_type": "code",
      "source": [
        "mdaf = corpus.find_all('span')\n",
        "\n",
        "for tag in mdaf:\n",
        "    if tag.text.upper()=='ITEM 2.': #\n",
        "        print(tag)\n",
        "        break\n"
      ],
      "metadata": {
        "id": "VeCEGvBdS7Yu",
        "outputId": "af31a0bd-799c-4789-f202-92ee119dfe1e",
        "colab": {
          "base_uri": "https://localhost:8080/"
        }
      },
      "execution_count": null,
      "outputs": [
        {
          "output_type": "stream",
          "name": "stdout",
          "text": [
            "<span style=\"color:#0000ff;font-family:'Helvetica',sans-serif;font-size:9pt;font-weight:400;line-height:100%;text-decoration:underline\"><a href=\"#i056866be11a54295b8c21e0877b67331_67\" style=\"color:#0000ff;font-family:'Helvetica',sans-serif;font-size:9pt;font-weight:400;line-height:100%;text-decoration:underline\">Item 2.</a></span>\n"
          ]
        }
      ]
    },
    {
      "cell_type": "code",
      "source": [],
      "metadata": {
        "id": "K8_62ki9aMTe"
      },
      "execution_count": null,
      "outputs": []
    }
  ]
}