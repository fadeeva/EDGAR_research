{
  "nbformat": 4,
  "nbformat_minor": 0,
  "metadata": {
    "colab": {
      "provenance": [],
      "toc_visible": true,
      "authorship_tag": "ABX9TyOjwMax0LtJAWsZaYXtri9U"
    },
    "kernelspec": {
      "name": "python3",
      "display_name": "Python 3"
    },
    "language_info": {
      "name": "python"
    }
  },
  "cells": [
    {
      "cell_type": "code",
      "execution_count": 1,
      "metadata": {
        "id": "09tUqn9XxPGz"
      },
      "outputs": [],
      "source": [
        "import pickle as pk\n",
        "import requests\n",
        "\n",
        "import bs4 as bs\n",
        "from bs4 import XMLParsedAsHTMLWarning\n",
        "import warnings\n",
        "\n",
        "warnings.filterwarnings(\"ignore\", category=XMLParsedAsHTMLWarning)"
      ]
    },
    {
      "cell_type": "code",
      "source": [
        "url = 'https://github.com/fadeeva/EDGAR_research/raw/refs/heads/master/data/reports.pickle'\n",
        "response = requests.get(url)\n",
        "reports = pk.loads(response.content)\n",
        "\n",
        "len(reports.keys())"
      ],
      "metadata": {
        "colab": {
          "base_uri": "https://localhost:8080/"
        },
        "id": "DvQQAdb-yDz-",
        "outputId": "ef4c6650-b763-4ade-f2eb-9820eac454f5"
      },
      "execution_count": 2,
      "outputs": [
        {
          "output_type": "execute_result",
          "data": {
            "text/plain": [
              "496"
            ]
          },
          "metadata": {},
          "execution_count": 2
        }
      ]
    },
    {
      "cell_type": "code",
      "source": [
        "reports['AAPL']"
      ],
      "metadata": {
        "colab": {
          "base_uri": "https://localhost:8080/"
        },
        "id": "WZ9vnjqGx45Y",
        "outputId": "410eceab-7d96-4b7d-caa0-bbe852e2545b"
      },
      "execution_count": 3,
      "outputs": [
        {
          "output_type": "execute_result",
          "data": {
            "text/plain": [
              "['https://www.sec.gov/Archives/edgar/data/320193/000032019325000057/aapl-20250329.htm',\n",
              " 'https://www.sec.gov/Archives/edgar/data/320193/000032019325000008/aapl-20241228.htm',\n",
              " 'https://www.sec.gov/Archives/edgar/data/320193/000032019324000081/aapl-20240629.htm',\n",
              " 'https://www.sec.gov/Archives/edgar/data/320193/000032019324000069/aapl-20240330.htm',\n",
              " 'https://www.sec.gov/Archives/edgar/data/320193/000032019324000006/aapl-20231230.htm',\n",
              " 'https://www.sec.gov/Archives/edgar/data/320193/000032019323000077/aapl-20230701.htm',\n",
              " 'https://www.sec.gov/Archives/edgar/data/320193/000032019323000064/aapl-20230401.htm',\n",
              " 'https://www.sec.gov/Archives/edgar/data/320193/000032019323000006/aapl-20221231.htm',\n",
              " 'https://www.sec.gov/Archives/edgar/data/320193/000032019322000070/aapl-20220625.htm',\n",
              " 'https://www.sec.gov/Archives/edgar/data/320193/000032019322000059/aapl-20220326.htm',\n",
              " 'https://www.sec.gov/Archives/edgar/data/320193/000032019322000007/aapl-20211225.htm',\n",
              " 'https://www.sec.gov/Archives/edgar/data/320193/000032019321000065/aapl-20210626.htm',\n",
              " 'https://www.sec.gov/Archives/edgar/data/320193/000032019321000056/aapl-20210327.htm',\n",
              " 'https://www.sec.gov/Archives/edgar/data/320193/000032019321000010/aapl-20201226.htm',\n",
              " 'https://www.sec.gov/Archives/edgar/data/320193/000032019320000062/aapl-20200627.htm']"
            ]
          },
          "metadata": {},
          "execution_count": 3
        }
      ]
    },
    {
      "cell_type": "code",
      "source": [
        "headers={'User-Agent':'Dummy Company jane.dow@dummy.com','Accept-Encoding':'gzip, deflate','Host':'www.sec.gov'}\n",
        "\n",
        "response = requests.get('https://www.sec.gov/Archives/edgar/data/320193/000032019325000057/aapl-20250329.htm',\n",
        "                        headers=headers, allow_redirects=True)\n",
        "\n",
        "corpus = bs.BeautifulSoup(response.text, features='lxml')"
      ],
      "metadata": {
        "id": "PasMj8O-ydBQ"
      },
      "execution_count": 14,
      "outputs": []
    },
    {
      "cell_type": "code",
      "source": [
        "ticker, date = corpus.find('title').text.split('-')\n",
        "ticker, date"
      ],
      "metadata": {
        "id": "F_qji1Qur9xy",
        "outputId": "53340dd6-52bd-4a61-8cc2-2aae0702856f",
        "colab": {
          "base_uri": "https://localhost:8080/"
        }
      },
      "execution_count": 15,
      "outputs": [
        {
          "output_type": "execute_result",
          "data": {
            "text/plain": [
              "('aapl', '20250329')"
            ]
          },
          "metadata": {},
          "execution_count": 15
        }
      ]
    },
    {
      "cell_type": "code",
      "source": [
        "corpus.find(id='f-5').text # Commission File Numbe"
      ],
      "metadata": {
        "id": "VA6WXF2AsYgC",
        "outputId": "7a1b226e-d2df-4d5c-de8f-6b9edf95b27f",
        "colab": {
          "base_uri": "https://localhost:8080/",
          "height": 35
        }
      },
      "execution_count": 16,
      "outputs": [
        {
          "output_type": "execute_result",
          "data": {
            "text/plain": [
              "'001-36743'"
            ],
            "application/vnd.google.colaboratory.intrinsic+json": {
              "type": "string"
            }
          },
          "metadata": {},
          "execution_count": 16
        }
      ]
    },
    {
      "cell_type": "code",
      "source": [
        "corpus.find(id='f-8').text # I.R.S. Employer Identification No"
      ],
      "metadata": {
        "id": "KfQyChrFsLKl",
        "outputId": "dd8113b0-1b33-4fa0-9212-05b3bfcce22f",
        "colab": {
          "base_uri": "https://localhost:8080/",
          "height": 35
        }
      },
      "execution_count": 17,
      "outputs": [
        {
          "output_type": "execute_result",
          "data": {
            "text/plain": [
              "'94-2404110'"
            ],
            "application/vnd.google.colaboratory.intrinsic+json": {
              "type": "string"
            }
          },
          "metadata": {},
          "execution_count": 17
        }
      ]
    },
    {
      "cell_type": "code",
      "source": [
        "# Securities registered pursuant to Section 12(b) of the Act:\n",
        "\n",
        "# Title of each class\n",
        "corpus.find(id='f-15').text\n",
        "corpus.find(id='f-18').text\n",
        "corpus.find(id='f-21').text\n",
        "corpus.find(id='f-24').text\n",
        "corpus.find(id='f-27').text\n",
        "corpus.find(id='f-30').text\n",
        "corpus.find(id='f-33').text\n",
        "corpus.find(id='f-36').text\n",
        "corpus.find(id='f-39').text\n"
      ],
      "metadata": {
        "id": "urQDdSErEz4B",
        "outputId": "5944819e-f8aa-4a62-a851-c92b5bd1c34d",
        "colab": {
          "base_uri": "https://localhost:8080/",
          "height": 35
        }
      },
      "execution_count": 18,
      "outputs": [
        {
          "output_type": "execute_result",
          "data": {
            "text/plain": [
              "'Common Stock, $0.00001 par value per share'"
            ],
            "application/vnd.google.colaboratory.intrinsic+json": {
              "type": "string"
            }
          },
          "metadata": {},
          "execution_count": 18
        }
      ]
    },
    {
      "cell_type": "code",
      "source": [],
      "metadata": {
        "id": "TAR5YV53FUEw"
      },
      "execution_count": null,
      "outputs": []
    }
  ]
}