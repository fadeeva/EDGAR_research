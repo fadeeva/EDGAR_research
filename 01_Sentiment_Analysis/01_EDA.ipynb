{
  "nbformat": 4,
  "nbformat_minor": 0,
  "metadata": {
    "colab": {
      "provenance": [],
      "toc_visible": true,
      "authorship_tag": "ABX9TyPmhpp1XaL8pJ05CUjcb090"
    },
    "kernelspec": {
      "name": "python3",
      "display_name": "Python 3"
    },
    "language_info": {
      "name": "python"
    }
  },
  "cells": [
    {
      "cell_type": "code",
      "execution_count": 1,
      "metadata": {
        "id": "09tUqn9XxPGz"
      },
      "outputs": [],
      "source": [
        "import pickle as pk\n",
        "import requests\n",
        "\n",
        "import bs4 as bs\n",
        "from bs4 import XMLParsedAsHTMLWarning\n",
        "import warnings\n",
        "\n",
        "warnings.filterwarnings(\"ignore\", category=XMLParsedAsHTMLWarning)"
      ]
    },
    {
      "cell_type": "markdown",
      "source": [
        "## Get Data"
      ],
      "metadata": {
        "id": "y-kfDYrhR0Tl"
      }
    },
    {
      "cell_type": "code",
      "source": [
        "url = 'https://github.com/fadeeva/EDGAR_research/raw/refs/heads/master/data/reports.pickle'\n",
        "response = requests.get(url)\n",
        "reports = pk.loads(response.content)\n",
        "\n",
        "len(reports.keys())"
      ],
      "metadata": {
        "colab": {
          "base_uri": "https://localhost:8080/"
        },
        "id": "DvQQAdb-yDz-",
        "outputId": "b12ad0e9-d9ae-4398-b65e-d07d0b6b2941"
      },
      "execution_count": 2,
      "outputs": [
        {
          "output_type": "execute_result",
          "data": {
            "text/plain": [
              "496"
            ]
          },
          "metadata": {},
          "execution_count": 2
        }
      ]
    },
    {
      "cell_type": "code",
      "source": [
        "import random\n",
        "\n",
        "selected_tickers = random.sample(list(reports.keys()), 5)\n",
        "selected_tickers"
      ],
      "metadata": {
        "id": "Kfa8NCEnOB8Y",
        "outputId": "100eabfe-acf9-4413-eb4d-75c610c7c05a",
        "colab": {
          "base_uri": "https://localhost:8080/"
        }
      },
      "execution_count": 3,
      "outputs": [
        {
          "output_type": "execute_result",
          "data": {
            "text/plain": [
              "['SBAC', 'SO', 'D', 'DOV', 'DAL']"
            ]
          },
          "metadata": {},
          "execution_count": 3
        }
      ]
    },
    {
      "cell_type": "code",
      "source": [
        "reports['AAPL'][:3]"
      ],
      "metadata": {
        "colab": {
          "base_uri": "https://localhost:8080/"
        },
        "id": "WZ9vnjqGx45Y",
        "outputId": "f5610b5b-e07f-4cdb-a6ac-f7d2752995ef"
      },
      "execution_count": null,
      "outputs": [
        {
          "output_type": "execute_result",
          "data": {
            "text/plain": [
              "['https://www.sec.gov/Archives/edgar/data/320193/000032019325000057/aapl-20250329.htm',\n",
              " 'https://www.sec.gov/Archives/edgar/data/320193/000032019325000008/aapl-20241228.htm',\n",
              " 'https://www.sec.gov/Archives/edgar/data/320193/000032019324000081/aapl-20240629.htm']"
            ]
          },
          "metadata": {},
          "execution_count": 4
        }
      ]
    },
    {
      "cell_type": "code",
      "source": [
        "reports['DHI'][:3]"
      ],
      "metadata": {
        "id": "Jxwn7fu-N0vS",
        "outputId": "ff170044-0941-4d30-ee14-633c5185be38",
        "colab": {
          "base_uri": "https://localhost:8080/"
        }
      },
      "execution_count": null,
      "outputs": [
        {
          "output_type": "execute_result",
          "data": {
            "text/plain": [
              "['https://www.sec.gov/Archives/edgar/data/1393883/000139388325000080/dhx-20250331.htm',\n",
              " 'https://www.sec.gov/Archives/edgar/data/882184/000088218425000024/dhi-20250331.htm',\n",
              " 'https://www.sec.gov/Archives/edgar/data/882184/000088218425000014/dhi-20241231.htm']"
            ]
          },
          "metadata": {},
          "execution_count": 10
        }
      ]
    },
    {
      "cell_type": "code",
      "source": [
        "reports['LHX'][:3]"
      ],
      "metadata": {
        "id": "0zsVYqecPs0v",
        "outputId": "7f8ff13d-bcd9-4e3d-c2d7-85ee70725b82",
        "colab": {
          "base_uri": "https://localhost:8080/"
        }
      },
      "execution_count": null,
      "outputs": [
        {
          "output_type": "execute_result",
          "data": {
            "text/plain": [
              "['https://www.sec.gov/Archives/edgar/data/202058/000020205825000101/hrs-20250328.htm',\n",
              " 'https://www.sec.gov/Archives/edgar/data/202058/000020205824000168/hrs-20240927.htm',\n",
              " 'https://www.sec.gov/Archives/edgar/data/202058/000020205824000140/hrs-20240628.htm']"
            ]
          },
          "metadata": {},
          "execution_count": 11
        }
      ]
    },
    {
      "cell_type": "code",
      "source": [
        "def get_report_corpus(url:str)->bs:\n",
        "    headers={'User-Agent':'Dummy Company jane.dow@dummy.com','Accept-Encoding':'gzip, deflate','Host':'www.sec.gov'}\n",
        "    response = requests.get(url, headers=headers, allow_redirects=True)\n",
        "\n",
        "    return bs.BeautifulSoup(response.text, features='lxml')\n"
      ],
      "metadata": {
        "id": "PasMj8O-ydBQ"
      },
      "execution_count": 6,
      "outputs": []
    },
    {
      "cell_type": "code",
      "source": [
        "corpus = get_report_corpus('https://www.sec.gov/Archives/edgar/data/320193/000032019325000057/aapl-20250329.htm')"
      ],
      "metadata": {
        "id": "Cn5WBNIMJjOP"
      },
      "execution_count": 7,
      "outputs": []
    },
    {
      "cell_type": "code",
      "source": [
        "ticker, date = corpus.find('title').text.split('-')\n",
        "ticker, date"
      ],
      "metadata": {
        "id": "F_qji1Qur9xy",
        "outputId": "99ad6ddf-2951-4da9-9bf3-8be089637cc5",
        "colab": {
          "base_uri": "https://localhost:8080/"
        }
      },
      "execution_count": 8,
      "outputs": [
        {
          "output_type": "execute_result",
          "data": {
            "text/plain": [
              "('aapl', '20250329')"
            ]
          },
          "metadata": {},
          "execution_count": 8
        }
      ]
    },
    {
      "cell_type": "code",
      "source": [
        "corpus.find(id='f-5').text # Commission File Numbe"
      ],
      "metadata": {
        "id": "VA6WXF2AsYgC",
        "outputId": "7a1b226e-d2df-4d5c-de8f-6b9edf95b27f",
        "colab": {
          "base_uri": "https://localhost:8080/",
          "height": 35
        }
      },
      "execution_count": null,
      "outputs": [
        {
          "output_type": "execute_result",
          "data": {
            "text/plain": [
              "'001-36743'"
            ],
            "application/vnd.google.colaboratory.intrinsic+json": {
              "type": "string"
            }
          },
          "metadata": {},
          "execution_count": 16
        }
      ]
    },
    {
      "cell_type": "code",
      "source": [
        "corpus.find(id='f-8').text # I.R.S. Employer Identification No"
      ],
      "metadata": {
        "id": "KfQyChrFsLKl",
        "outputId": "dd8113b0-1b33-4fa0-9212-05b3bfcce22f",
        "colab": {
          "base_uri": "https://localhost:8080/",
          "height": 35
        }
      },
      "execution_count": null,
      "outputs": [
        {
          "output_type": "execute_result",
          "data": {
            "text/plain": [
              "'94-2404110'"
            ],
            "application/vnd.google.colaboratory.intrinsic+json": {
              "type": "string"
            }
          },
          "metadata": {},
          "execution_count": 17
        }
      ]
    },
    {
      "cell_type": "markdown",
      "source": [
        "## Consolidated Balance Sheet"
      ],
      "metadata": {
        "id": "TAR5YV53FUEw"
      }
    },
    {
      "cell_type": "markdown",
      "source": [
        "## Management’s Discussion and Analysis of Financial Condition and Results of Operations"
      ],
      "metadata": {
        "id": "Ya45EJyuQ0WH"
      }
    },
    {
      "cell_type": "code",
      "source": [
        "title = 'Management’s Discussion and Analysis of Financial Condition and Results of Operations'"
      ],
      "metadata": {
        "id": "yOP6SQ_gN7uh"
      },
      "execution_count": 17,
      "outputs": []
    },
    {
      "cell_type": "code",
      "source": [
        "element = corpus.find(string=title)\n",
        "\n",
        "if element:\n",
        "    print(f'Found element: {element}')\n",
        "else:\n",
        "    print('Element not found.')"
      ],
      "metadata": {
        "id": "R9AAJTx6Phlb",
        "outputId": "7eaf250e-123e-4642-cd77-a12ba2efe24c",
        "colab": {
          "base_uri": "https://localhost:8080/"
        }
      },
      "execution_count": 18,
      "outputs": [
        {
          "output_type": "stream",
          "name": "stdout",
          "text": [
            "Found element: Management’s Discussion and Analysis of Financial Condition and Results of Operations\n"
          ]
        }
      ]
    },
    {
      "cell_type": "code",
      "source": [
        "element"
      ],
      "metadata": {
        "id": "3R31Zr2BLxhB",
        "outputId": "7dec09e9-e071-4396-c5e1-ee1cee90beeb",
        "colab": {
          "base_uri": "https://localhost:8080/",
          "height": 35
        }
      },
      "execution_count": 16,
      "outputs": [
        {
          "output_type": "execute_result",
          "data": {
            "text/plain": [
              "'Management’s Discussion and Analysis of Financial Condition and Results of Operations'"
            ],
            "application/vnd.google.colaboratory.intrinsic+json": {
              "type": "string"
            }
          },
          "metadata": {},
          "execution_count": 16
        }
      ]
    },
    {
      "cell_type": "code",
      "source": [
        "# i056866be11a54295b8c21e0877b67331_67"
      ],
      "metadata": {
        "id": "EC6X_-6JOq7h"
      },
      "execution_count": null,
      "outputs": []
    },
    {
      "cell_type": "code",
      "source": [
        "mdaf = corpus.find_all('span')\n",
        "tag = [tag for tag in mdaf if tag.string==title][0]\n",
        "\n",
        "tag"
      ],
      "metadata": {
        "id": "9_FByKWaMWOt",
        "outputId": "c1fb2f73-ed0f-48c5-f841-616b2fae51c3",
        "colab": {
          "base_uri": "https://localhost:8080/"
        }
      },
      "execution_count": 31,
      "outputs": [
        {
          "output_type": "execute_result",
          "data": {
            "text/plain": [
              "<span style=\"color:#0000ff;font-family:'Helvetica',sans-serif;font-size:9pt;font-weight:400;line-height:100%;text-decoration:underline\"><a href=\"#i056866be11a54295b8c21e0877b67331_67\" style=\"color:#0000ff;font-family:'Helvetica',sans-serif;font-size:9pt;font-weight:400;line-height:100%;text-decoration:underline\">Management’s Discussion and Analysis of Financial Condition and Results of Operations</a></span>"
            ]
          },
          "metadata": {},
          "execution_count": 31
        }
      ]
    },
    {
      "cell_type": "code",
      "source": [
        "div_id = tag.find('a').get('href')[1:]"
      ],
      "metadata": {
        "id": "oMKz3B-PSlrO",
        "outputId": "d8ee85fd-9891-4785-bcaf-f297728d0b07",
        "colab": {
          "base_uri": "https://localhost:8080/",
          "height": 35
        }
      },
      "execution_count": 34,
      "outputs": [
        {
          "output_type": "execute_result",
          "data": {
            "text/plain": [
              "'i056866be11a54295b8c21e0877b67331_67'"
            ],
            "application/vnd.google.colaboratory.intrinsic+json": {
              "type": "string"
            }
          },
          "metadata": {},
          "execution_count": 34
        }
      ]
    },
    {
      "cell_type": "code",
      "source": [],
      "metadata": {
        "id": "VeCEGvBdS7Yu"
      },
      "execution_count": null,
      "outputs": []
    }
  ]
}